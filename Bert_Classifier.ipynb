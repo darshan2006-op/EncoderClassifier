{
 "cells": [
  {
   "cell_type": "code",
   "execution_count": 1,
   "id": "f33d481c-96a1-473b-bfa7-5e8239b6012a",
   "metadata": {},
   "outputs": [
    {
     "name": "stderr",
     "output_type": "stream",
     "text": [
      "C:\\Users\\darsh\\AppData\\Local\\Programs\\Python\\Python311\\Lib\\site-packages\\torchtext\\data\\__init__.py:4: UserWarning: \n",
      "/!\\ IMPORTANT WARNING ABOUT TORCHTEXT STATUS /!\\ \n",
      "Torchtext is deprecated and the last released version will be 0.18 (this one). You can silence this warning by calling the following at the beginnign of your scripts: `import torchtext; torchtext.disable_torchtext_deprecation_warning()`\n",
      "  warnings.warn(torchtext._TORCHTEXT_DEPRECATION_MSG)\n",
      "C:\\Users\\darsh\\AppData\\Local\\Programs\\Python\\Python311\\Lib\\site-packages\\torchtext\\vocab\\__init__.py:4: UserWarning: \n",
      "/!\\ IMPORTANT WARNING ABOUT TORCHTEXT STATUS /!\\ \n",
      "Torchtext is deprecated and the last released version will be 0.18 (this one). You can silence this warning by calling the following at the beginnign of your scripts: `import torchtext; torchtext.disable_torchtext_deprecation_warning()`\n",
      "  warnings.warn(torchtext._TORCHTEXT_DEPRECATION_MSG)\n",
      "C:\\Users\\darsh\\AppData\\Local\\Programs\\Python\\Python311\\Lib\\site-packages\\torchtext\\utils.py:4: UserWarning: \n",
      "/!\\ IMPORTANT WARNING ABOUT TORCHTEXT STATUS /!\\ \n",
      "Torchtext is deprecated and the last released version will be 0.18 (this one). You can silence this warning by calling the following at the beginnign of your scripts: `import torchtext; torchtext.disable_torchtext_deprecation_warning()`\n",
      "  warnings.warn(torchtext._TORCHTEXT_DEPRECATION_MSG)\n"
     ]
    }
   ],
   "source": [
    "import pandas as pd\n",
    "import torch\n",
    "import torch.nn as nn\n",
    "import torch.nn.functional as F\n",
    "from tqdm import tqdm\n",
    "from Encoder import Encoder\n",
    "from torch.utils.data import Dataset, DataLoader\n",
    "from sklearn.model_selection import train_test_split\n",
    "from torchtext.data.utils import get_tokenizer\n",
    "from torchtext.vocab import build_vocab_from_iterator"
   ]
  },
  {
   "cell_type": "code",
   "execution_count": 2,
   "id": "f5675fac-9292-42c4-a52e-80b462f291da",
   "metadata": {},
   "outputs": [],
   "source": [
    "hparams = {\n",
    "    \"embedding_dim\": 512,\n",
    "    \"n_heads\": 8,\n",
    "    \"n_encoders\": 2,\n",
    "    \"dff\": 50,\n",
    "    \"n_class\": 2,\n",
    "    \"lr\": 1e-4,\n",
    "    \"epoch\": 10,\n",
    "    \"batch_size\": 4\n",
    "}"
   ]
  },
  {
   "cell_type": "code",
   "execution_count": 3,
   "id": "1f245313-c908-4076-ae1c-376bf4ecc2c7",
   "metadata": {},
   "outputs": [],
   "source": [
    "device = torch.device(\"cuda\" if torch.cuda.is_available() else \"cpu\")"
   ]
  },
  {
   "cell_type": "code",
   "execution_count": 4,
   "id": "c84ab6ce-0d3a-42ba-9969-eac291cdce52",
   "metadata": {},
   "outputs": [
    {
     "data": {
      "text/html": [
       "<div>\n",
       "<style scoped>\n",
       "    .dataframe tbody tr th:only-of-type {\n",
       "        vertical-align: middle;\n",
       "    }\n",
       "\n",
       "    .dataframe tbody tr th {\n",
       "        vertical-align: top;\n",
       "    }\n",
       "\n",
       "    .dataframe thead th {\n",
       "        text-align: right;\n",
       "    }\n",
       "</style>\n",
       "<table border=\"1\" class=\"dataframe\">\n",
       "  <thead>\n",
       "    <tr style=\"text-align: right;\">\n",
       "      <th></th>\n",
       "      <th>Category</th>\n",
       "      <th>Message</th>\n",
       "    </tr>\n",
       "  </thead>\n",
       "  <tbody>\n",
       "    <tr>\n",
       "      <th>2797</th>\n",
       "      <td>ham</td>\n",
       "      <td>Tell your friends what you plan to do on Valen...</td>\n",
       "    </tr>\n",
       "    <tr>\n",
       "      <th>2788</th>\n",
       "      <td>ham</td>\n",
       "      <td>Forgot it takes me 3 years to shower, sorry. W...</td>\n",
       "    </tr>\n",
       "    <tr>\n",
       "      <th>2786</th>\n",
       "      <td>ham</td>\n",
       "      <td>Yeah get the unlimited</td>\n",
       "    </tr>\n",
       "    <tr>\n",
       "      <th>5570</th>\n",
       "      <td>ham</td>\n",
       "      <td>The guy did some bitching but I acted like i'd...</td>\n",
       "    </tr>\n",
       "    <tr>\n",
       "      <th>2784</th>\n",
       "      <td>ham</td>\n",
       "      <td>Just arrived, see you in a couple days &amp;lt;3</td>\n",
       "    </tr>\n",
       "  </tbody>\n",
       "</table>\n",
       "</div>"
      ],
      "text/plain": [
       "     Category                                            Message\n",
       "2797      ham  Tell your friends what you plan to do on Valen...\n",
       "2788      ham  Forgot it takes me 3 years to shower, sorry. W...\n",
       "2786      ham                             Yeah get the unlimited\n",
       "5570      ham  The guy did some bitching but I acted like i'd...\n",
       "2784      ham       Just arrived, see you in a couple days &lt;3"
      ]
     },
     "execution_count": 4,
     "metadata": {},
     "output_type": "execute_result"
    }
   ],
   "source": [
    "data = pd.read_csv(\"data.csv\")\n",
    "data = data.sort_values(by='Category')\n",
    "ham = data[:700]\n",
    "spam = data[-641:]\n",
    "data.value_counts().get(\"spam\")\n",
    "spam.head()\n",
    "data = pd.concat([spam,ham])\n",
    "data.tail()"
   ]
  },
  {
   "cell_type": "code",
   "execution_count": 5,
   "id": "e5ea7d8c-6f9b-49a1-965f-df21be84f0b2",
   "metadata": {},
   "outputs": [],
   "source": [
    "df_train, df_test = train_test_split(data, test_size=0.1)"
   ]
  },
  {
   "cell_type": "code",
   "execution_count": 6,
   "id": "91cfa809-785e-4c8b-bde5-3d352ec1fb8f",
   "metadata": {},
   "outputs": [
    {
     "data": {
      "text/plain": [
       "(1206, 135)"
      ]
     },
     "execution_count": 6,
     "metadata": {},
     "output_type": "execute_result"
    }
   ],
   "source": [
    "len(df_train), len(df_test)"
   ]
  },
  {
   "cell_type": "code",
   "execution_count": 7,
   "id": "d53a5b5b-18f4-4541-9d26-40d8f47269e2",
   "metadata": {},
   "outputs": [
    {
     "data": {
      "text/plain": [
       "array(['spam', 'ham'], dtype=object)"
      ]
     },
     "execution_count": 7,
     "metadata": {},
     "output_type": "execute_result"
    }
   ],
   "source": [
    "labels = df_train[\"Category\"].unique()\n",
    "labels"
   ]
  },
  {
   "cell_type": "code",
   "execution_count": 8,
   "id": "c76741f5-e14d-414f-90b7-1b664de4d8ea",
   "metadata": {},
   "outputs": [
    {
     "data": {
      "text/plain": [
       "({'spam': 0, 'ham': 1}, {0: 'spam', 1: 'ham'})"
      ]
     },
     "execution_count": 8,
     "metadata": {},
     "output_type": "execute_result"
    }
   ],
   "source": [
    "l2i = {j:i for i,j in enumerate(labels)}\n",
    "i2l = {i:j for i,j in enumerate(labels)}\n",
    "l2i, i2l"
   ]
  },
  {
   "cell_type": "code",
   "execution_count": 9,
   "id": "583d1b81-af58-4a15-82f5-9e616c9e29aa",
   "metadata": {},
   "outputs": [
    {
     "name": "stdout",
     "output_type": "stream",
     "text": [
      "{'independently': 3303, 'division': 1599, '0721072': 2088, 'smsservices': 4049, 'if': 62, '1/2price': 2258, '2nights': 2342, 'homeowners': 1158, 'ur': 24, '08714712412': 2149, '078498****7': 2096, \"'\": 10, 'latest': 158, 'mtalk': 1782, '83110': 2465, 'points': 265, '<pad>': 0, 'smoke': 1255, '.': 2, 'sheets': 1891, '<unk>': 1, 'pushes': 3844, '18': 210, 'no>': 3633, 'yourself': 1002, '08719181259': 2175, 'lambu': 3401, 'moji': 3557, 'oz': 1810, 'efreefone': 3020, 'that': 41, '!': 4, 'rip': 3930, 'seems': 1886, 'her': 157, 'outdoors': 3699, 'terms': 529, 'group': 3208, 'nat': 1789, 'a': 7, 'mobiles': 516, 'sf': 4003, 'foley': 1634, 'age': 494, 'you': 6, '09066364311': 2230, 'eek': 1611, 'land': 280, ')': 35, 'reflection': 3888, 'every': 118, 'ac/u/natalie2k9': 2525, '10': 336, 'credit': 638, 'vat': 4333, 'to': 3, 'bsn': 2744, '08708034412': 1344, 'or': 19, 'message': 123, '08715203652': 2152, 'all': 71, '1000': 616, 'ias': 1692, 'i': 8, 'lets': 1180, 'ig11': 3294, 'nighters': 3621, '80488': 711, ',': 5, 'toplay': 4241, 'great': 195, '?': 9, 'm227xy': 3470, 'much': 356, '100': 337, 'flirt': 1137, 'face': 884, 'vijay': 1998, 'the': 11, 'awesome': 1082, 'australia': 2627, 'gumby': 3218, 'single': 1248, 'we': 43, 'fundamentals': 3151, 'rpl': 3943, 'tcs': 981, 'txting': 483, 'yep': 1306, 'okay': 1208, 'call': 12, 'after': 446, '09050000460': 2184, 'with': 31, '250': 824, 'advisors': 2542, 'specify': 4074, 'used': 1991, 'urgent': 83, 'character': 2818, 'dress': 2999, 'it': 27, 'airport': 2557, 'motorola': 424, 'thanks': 268, 'rply': 787, 'on': 23, 'free-send': 1641, '5digital': 2422, 'tot': 1964, 'didn': 871, 'u’ve': 4327, 'pics': 359, 'girls': 649, 'uk/expressoffer': 1977, '86021': 621, 'longer': 3452, 'trav': 1966, 'widelive': 2017, 'u': 13, 'those': 482, 'your': 14, '80155': 2459, 'for': 15, 'bored': 451, '2': 21, '1000s': 1377, 'balls': 2643, 'yes-440': 2032, 'is': 16, 'able': 1454, 'w4': 4361, 'and': 17, 'romantic': 3936, '18+only': 1030, 'kiss': 911, 'tons': 4239, 'anything': 372, 'so': 49, '14thmarch': 2277, '86688': 259, 'now': 18, 'have': 26, '2morow': 2338, 'road': 3932, 'ended': 1613, 'package': 3707, 'house': 1160, 'think': 217, 'cry': 1578, 'career': 2797, 'free': 20, 'about': 165, 'text': 39, 'mood': 1775, 'probably': 521, 'customers': 1581, 'in': 22, '89123': 2485, 'thinkin': 1276, 'sphosting': 4078, 'thousands': 4214, 'porn': 946, 'apologise': 2591, 'being': 406, 'of': 25, 'st': 1257, 's': 28, 'profit': 1838, 'me': 29, 'prize': 59, 'until': 532, 'send': 63, 'somerset': 4059, 'locations': 918, 'over': 236, 'active': 1458, 'talk': 329, 'items': 3329, 'ride': 3927, 'parties': 3720, 'iq': 1710, 'txt': 30, 'from': 32, 'xxxx': 4446, 'robs': 3933, 'plus': 595, 'delivery': 248, 'ipod': 351, 'self': 1887, 'only': 57, 'final': 347, 'gud': 467, 'mobile': 44, 'todays': 269, 'necesity': 3608, 'term': 1945, 'hope': 261, 'get': 33, 'order': 427, 'drive': 875, '150p/meg': 2279, 'subpoly': 1262, '5pm': 2423, '99': 2496, 'hg/suite342/2lands': 507, '***********': 1007, 'sorrow': 4065, 'will': 54, 'apps': 2595, 'are': 34, '09065174042': 2224, 'await': 247, '88222': 1446, 'blue': 1091, 'shit': 791, 'entry': 194, 'my': 36, 'them': 302, 'nite': 930, '4': 37, 'can': 48, 'question': 361, 'hate': 3234, '0844': 1340, '09094646631': 2245, 'eg': 571, '£5': 4492, 'subscriptions': 4133, '87021': 1057, 'stop': 38, 'taking': 1941, 'postponed': 3794, 'arcade': 628, 'mix': 1195, 'this': 40, 'happen': 1149, '121': 1026, '2p': 1397, 'class': 453, 'simple': 1899, 'premier': 1833, '3mins': 1040, 'vl': 1293, 'just': 42, 'pussy': 3845, 'norm': 1799, 'again': 493, '08704439680ts&cs': 2121, 'woke': 4420, 'claim': 45, 'together': 690, 'ree': 3886, 'line': 140, 'dis': 732, 'reply': 46, 'rental': 389, 'x': 184, 'tel': 1272, 'bloody': 2697, 'savamob': 390, 'meal': 1760, 'mini': 3537, 'jack': 3335, 'no': 47, 'abt': 622, 'us': 286, 'our': 52, 'southern': 4070, '&': 50, 'bid': 556, 'leave': 511, 'see': 119, 'be': 51, 'recieve': 3879, 'console': 1566, 'valued': 484, 'tonight': 530, '02/06/03': 1009, 'not': 53, 'phones': 428, 'do': 55, 'hoops': 3266, 'gong': 3191, 'fri': 892, 'at': 56, 'hrishi': 3276, 'lion': 1740, 'out': 58, 'fact': 885, 'greetings': 1667, 'www': 60, 'm': 61, 'beneath': 2681, '-': 64, '40gb': 618, 'msgs@150p': 1781, 'won': 65, 'xxx': 539, 'emerging': 3028, '5p/min': 1423, 'coughing': 2897, 'morning': 355, 'everywhere': 3054, 'isnt': 1166, 'concentrate': 2878, '36504': 548, 'better': 1497, 'collecting': 2863, 'haven': 1152, 'athome': 2619, 'live': 136, 'collect': 212, 'revealed': 785, 'new': 66, 'without': 396, 'pic': 387, 'girl': 505, '09099725823': 2247, 'dial': 2954, 'contract': 1567, 'tour': 1282, 'laid': 1175, 't': 67, 'thank': 985, 'orno': 3689, '8077': 1435, 'anytime': 373, 'mins': 159, '9280114': 2492, '220-cm2': 1035, 'tariffs': 980, '54': 2420, 'forget': 1638, 'but': 68, '09063440451': 2214, 'phony': 3752, 'balance': 1486, 'maybe': 763, 'prolly': 3828, 'tulip': 1971, 'hello': 469, 'easter': 3013, '09701213186': 2253, '4882': 1414, '10ppm': 1380, 'go': 69, '09061743811': 2211, 'matrix3': 1191, '00': 443, 'nokia': 70, 'type': 1287, 'noe': 931, 'need': 147, 'takecare': 4170, '89555': 1063, '(': 72, '88888': 2482, 'aha': 2554, 'knickers': 3390, 'flag': 462, 'wana': 4368, 'lol': 319, 'up': 73, 'funk': 1647, 'money': 297, '09050000332': 2183, 'jacuzzi': 3337, 'ya': 398, 'who': 90, 'light': 1182, 'what': 74, 'movie': 664, 'mm': 3547, 'date': 498, 'smth': 4050, '08001950382': 1013, 'yup': 814, 'win': 75, 'join': 278, '450p': 2390, 'texting': 1948, 'cash': 76, '&lt': 77, '1/2': 1376, 'sun': 1936, '£100': 190, '£250': 442, 'bringing': 2735, 'how': 78, 'please': 79, 'lookatme': 1744, 'as': 80, 'friend': 293, '88088': 1445, 'ok': 81, 'charged': 561, '-message': 1318, 'tv': 363, 'phone': 82, 'previously': 1221, 'camcorder': 341, 'p': 1811, 'goss': 3195, 'uk': 84, '#&gt': 85, '16+': 198, 'one': 143, '0': 1008, 'update_now': 1987, 'father': 886, 'photo': 1217, 'fraction': 3134, 'stand': 4093, '87131': 2477, 'contact': 86, 'crazy': 868, 'meet': 382, 'like': 87, 'tat': 4175, 'tones': 208, '10k': 1022, 'subs16+1win150ppmx3': 1931, 'lapdancer': 3407, 'meh': 3516, 'week': 88, 'customer': 108, 'starting': 679, 'fgkslpo': 3092, 'reason': 3873, 'when': 89, '1': 91, '29/10/0': 2330, 'co': 92, 'day': 93, 'damn': 2920, 'shopping': 393, 'increments': 1702, 'guaranteed': 94, '£71': 4499, '150ppmpobox10183bhamb64xe': 2286, 'off': 385, 'ü': 144, 'spree': 678, 'listening': 3438, 'days': 317, 'know': 95, 'rent': 1859, 'm6': 1753, 'popcorn': 3789, 'call2optout/n9dx': 1524, '09058091870': 2193, 'uks': 1980, 'da': 232, 'box95qu': 1092, '7': 444, '1172': 2267, 'princess': 782, 'then': 96, 'there': 97, '20p': 546, 'years': 700, '3030': 617, 'hot': 276, 'drugs': 1605, 'by': 98, 'large': 3408, 'com': 99, 'landline': 167, 'hip': 1678, 'luv': 584, 'starts': 974, 'coherently': 2860, '09064012160': 1367, 'moby': 927, 'service': 100, 'appreciate': 1478, 'been': 101, 'cant': 291, 'pls': 252, 'today': 102, 'dps': 2996, '2morro': 2339, '£10': 489, 'custcare': 412, 'chat': 103, '4*': 199, 'trusting': 4264, '750': 245, '/7': 2069, 'right': 181, 'read': 1849, 'verified': 4336, 'sugar': 4141, 'll': 104, 'workout': 4425, 'thts': 4221, 'per': 105, 'copy': 2893, 'psychic': 3839, 'in2': 1699, 'want': 106, '81010': 2462, 'am': 107, 'r': 109, 've': 225, 'honey': 902, 'successfully': 4137, 'time': 110, 'w45wq': 695, 'checking': 1545, 'happy': 380, 'love': 111, 'sources': 4068, 'e-tlp': 1124, 'any': 112, '£500': 227, '21/f': 2310, '09050280520': 2189, 'warm': 2007, 'good': 113, '69101': 2433, '89070': 1447, 'opposed': 3683, 'mates': 353, 'review': 786, '30pp/txt': 1403, 'shortbreaks': 4017, 'spider-man': 4080, 'tone': 114, 'was': 115, 'harry': 1670, '7cfca1a': 2453, 'fine': 415, 'b\\x92day': 2766, 'stopbcm': 4114, 'thats': 1950, 'xx': 699, '26th': 2324, 'got': 116, '1x150p/wk': 707, 'jump': 3359, 'mk17': 1770, '150': 491, 'purpose': 952, '0a$networks': 2254, 'sol': 601, 'hl': 749, 'come': 117, 'noice': 3635, '402': 2377, '£400': 816, 'many': 321, '021': 2079, 'auction': 246, 'back': 120, 'draw': 121, 'dept': 2944, 'lucy': 1752, 'an': 122, 'some': 207, 'bootydelious': 2708, 'o=44345': 3659, 'inclusive': 906, 'shahjahan': 1890, 'loyalty': 658, 'wif': 1298, 'dear': 124, 'passwords': 3726, 'c': 125, 'std': 604, 'beads': 2670, 'sort': 1916, 'still': 126, 'user': 533, 'finish': 743, 'box': 127, 'yer': 1001, 'has': 128, 'dialling': 2955, 'member': 764, 'lei': 913, 'its': 129, 'paris': 939, 'more': 130, 'doubles': 2991, 'she': 131, 'sw73ss': 1939, 'replies': 3907, 'bout': 1506, 'they': 132, 'wap': 486, '£1000': 133, 'gym': 3220, 'sleeping': 1904, '50': 134, 'keeping': 3374, 'wml': 2024, 'awarded': 135, '2000': 2304, 'wildest': 4402, 'national': 384, '28': 825, '9153': 2491, 'conditions': 1106, 'admirer': 445, 'min': 214, 'whether': 2015, 'tell': 137, 'pple': 3800, 'lovely': 922, 'strong': 1260, 'hi': 138, 'age23': 1465, 'film': 1629, 'apply': 179, 'holiday': 139, 'stay': 603, 'minded': 3536, '£33': 2037, 'masked': 3497, 'say': 391, 'person': 474, 'ru': 1872, 'hand': 3224, 'number': 141, '45239': 1045, 'n': 142, 'hg/suite342/2lands/row/w1j6hl': 1677, '09061104283': 2204, 'chance': 145, 'he': 146, 'ending': 572, '%': 1313, 'ts&cs': 437, 'folks': 3118, 'po': 148, 'places': 1821, 'shows': 149, 'salad': 3958, 'sorry': 150, '+': 219, 'definitely': 1595, 'eyed-dont': 3074, 'held': 3242, 'truth': 1970, 'did': 151, 'pix': 1218, 'could': 316, 'wthout': 4434, 'vodka': 4350, 'before': 313, 'james': 3338, 'his': 420, 'here': 152, 'lucky': 515, 'access': 551, 'kothi': 3393, 'king': 756, 'match': 762, 'take': 153, 'bold': 2703, 'sound': 972, 't&c': 255, 'code': 154, '1/3': 2259, 'dont': 155, 'chikku': 863, 'had': 156, 'don\\x92t': 2987, 'msg': 160, 'tenants': 982, 'random': 1226, 'content': 410, 'best1': 2684, 'receive': 161, 'questions': 670, 'd=': 1582, 'com1win150ppmx3age16subscription': 2870, 'sms': 162, 'words': 1303, 'js': 3355, 'k': 279, '86888': 1444, 'bookmark': 2706, 'onto': 590, 'yijue': 4465, '£1': 163, 'pobox12n146tf15': 3774, 'passed': 3721, 'un-redeemed': 395, 'small': 4042, '*9': 2045, 'were': 307, '150ppm': 164, 'find': 166, '84025': 1055, 'looking': 352, 'picked': 942, 'aberdeen': 2516, 'last': 168, 'bt-national-rate': 630, '09111030116': 2252, 'south': 4069, 'lor': 169, 'g': 417, 'thanx': 986, 'canname': 2790, 'tomorrow': 170, 'news': 517, 'j': 1717, 'word': 171, '1st': 172, 'award': 173, '09065171142-stopsms-08718727870150ppm': 2223, 'ahmad': 2555, 'logoff': 3447, 'old': 934, 'lucozade': 923, 'while': 810, 'herself': 1676, 'home': 174, 'decimal': 1593, 'essay': 3046, 'video': 175, 'congrats': 409, 'gr8': 576, 'gets': 3173, 'cnl': 2854, 'settings': 1245, 'waiting': 176, 'rate': 204, 'post': 947, 'kent': 1724, 'joining': 3352, '000': 177, 'feb': 1627, 'sipix': 969, '07781482378': 1331, 'b4u': 2639, '08712400603': 2134, 'would': 288, 'cust': 1580, '3': 178, 'giving': 1662, 'ans': 403, 'make': 180, 'wat': 182, '08718720201': 544, 'call2optout/f4q=': 2776, 'youphone': 4469, 'where': 183, 'touch': 803, 'eh': 3021, 'cost': 185, 'textcomp': 1947, 'shall': 966, 'forgotten': 3126, '***************': 2043, 'going': 186, 'sport': 795, 'very': 485, 'late': 583, 'night': 187, '81618': 2463, 'serious': 1244, 'feel': 378, 'offer': 188, 'fingers': 3103, 'misscall': 3543, 'orange': 189, 'yetty': 4461, '16': 191, 'vouchers': 238, 'cast': 2802, 'camera': 192, 'brought': 2740, 'secret': 478, 'kudiyarasu': 3394, '08002986030': 2101, 'collection': 193, 'sue': 1934, 'urself': 1289, 'tuesday': 1286, 're': 196, 'smith': 4047, '4wrd': 2404, 'nagar': 3595, 'wth': 4433, 'comp': 497, '83370': 2469, 'hit': 901, 'poker': 3778, 'wtlp': 4435, 'yeah': 197, 'england': 644, '78': 2451, 'acted': 2534, 'snappy': 4052, 'online': 589, 'yes': 209, 'movietrivia': 1777, 'handset': 747, 'activate': 716, '26/10/04': 2323, '500': 200, 'stopped': 1927, 'really': 362, 'nick': 3618, 'wlcome': 4419, '84199': 841, 'don': 201, 'eire': 1612, 'out--if': 3695, 'help': 202, '3optical': 2370, 'woman': 2025, 'doggin': 2982, 'mob': 203, 'calls£1/minmoremobsemspobox45po139wa': 1529, '02': 2074, 'ringtone': 205, '4mths': 1046, 'found': 575, 'happening': 3229, 'takes': 682, 'sent': 206, '&amp': 241, 'babe': 211, 'change': 862, '*': 702, 'hey': 213, 'complimentary': 343, 'network': 215, 'town': 436, 'http': 235, 'fat': 1625, 'part': 298, '#error': 1006, 'selected': 216, '£5000': 218, 'rahul': 3855, 'dude': 734, '08000839402': 368, 'b': 220, 'wrld': 4431, 'enjoy': 377, 'muchxxlove': 3583, 'drop': 640, 'fell': 3090, 'care': 221, 'music': 222, 'boring': 2711, '01223585236': 2072, 'occurs': 3664, 'next': 223, 'rcvd': 783, 'sae': 224, '2/2': 2301, 'weekly': 226, 'titles': 1957, 'lose': 920, 'il': 3297, 'share': 4008, 'reach': 476, 'internet/service': 3318, 'trouble': 1969, 'vill': 4344, 'listed': 3437, '8007': 228, 'place': 360, 'show': 968, 'games': 275, 'account': 229, 'try': 270, 'confirmed': 1564, 'euro2004': 1125, '£800': 613, 'put': 953, 'attempt': 230, 'bonus': 231, 'work': 257, 'e': 233, 'hoping': 1682, 'flirtparty': 3112, 'player': 429, 'everybody': 3051, 'gift': 234, 'strike': 1928, 'opt-out': 936, 'thread': 4216, 'charge': 408, 'ntt': 425, 'valid': 237, 'why': 239, 'cake': 2771, 'spk': 1920, 'natalie': 3600, 'vodafone': 694, 'wk': 240, 'lounge': 3458, 'cash-balance': 559, 'weekends': 809, 'hlp': 1679, '150p': 242, 'mins&100txt/mth': 3539, '450ppw': 1413, '18+': 243, 'piece': 3756, 'pages': 3708, '2stoptxt': 1400, 'rite': 1233, 'measure': 3512, 'suite': 4143, '2nd': 244, 'entey': 3033, 'hungry': 1162, 'give': 249, 'cool': 565, 'carlin': 2800, 'direct': 457, 'im': 250, 'dhina': 2952, 'virgins': 4347, 'voucher': 287, 'lie': 3425, 'miss': 251, 'process': 3823, 'sexy': 253, '542': 834, '80160': 2460, 'same': 477, 'margin': 3491, 'digital': 731, 'borin': 2710, 'someone': 254, 'time&gt': 1954, '0808': 818, 'mandara': 3487, 'rakhesh': 3858, 'hear': 577, '62220cncl': 2429, 'info': 422, 'heroes': 3250, 'sooner': 4062, 'bak': 1485, 'freefone': 1141, 'bowl': 2716, 'wc1n3xx': 1296, 'pleased': 943, 'sounds': 1917, 'prods': 3824, 't&cs': 256, 'ghost': 1661, 'does': 413, '0825': 1339, '£2000': 258, 'flights': 889, '09061744553': 1364, 'fink': 3104, 'refused': 959, '28th': 2328, 'receipt': 956, 'chosen': 1552, 'expires': 260, 'later': 262, 'wanting': 4369, 'extra': 503, 'months': 1774, 'oh': 263, 'boys': 1510, 'caller': 407, 'gnarls': 3183, 'trying': 285, 'play': 264, 'cds': 727, '0871277810710p/min': 2141, 'cc': 632, 'ringtone-get': 1865, 'price': 266, 'possible': 3793, 'within': 698, 'should': 267, 'well': 271, 'pretty': 950, 'carlie': 2799, 'enter': 502, 'ldew': 470, 'club': 272, 'noon': 1798, '£1000call': 4487, 'd': 273, 'end': 274, 'sonyericsson': 971, 'repeat': 3906, 'info@ringtoneking': 3306, 'identifier': 277, 'bloomberg': 854, 'life': 281, 'txttowin': 4282, 'fit': 1632, 'private': 282, 'shracomorsglsuplt': 1894, 'recd': 1852, 'texts': 283, '7250': 1431, 'divert': 2973, 'mp3': 770, 'too': 284, 'monster': 3564, 'excuses': 3062, 'cancel': 631, 'yours': 289, 'decimal&gt': 1594, 'ac': 846, '12hrs': 290, 'always': 447, 'real1': 3870, 'representative': 431, 'doing': 292, 'important': 294, '4msgs': 2400, 'multiply': 3585, 'forward': 1640, 'let': 295, 'of£2000': 1806, 'messages': 296, 'pounds': 299, 'bc': 2666, '326': 1406, 'soon': 433, 'pound': 596, 'services': 300, 'page': 1813, '6days': 2441, 'statement': 301, 'moan': 1772, 'tried': 303, 'slowly': 4040, 'unsubscribe': 304, '85': 842, 'wanna': 305, '08712400602450p': 2133, 'weekend': 306, 'cos': 454, 'dint': 2964, 'year': 308, 'speak': 434, 'players': 3766, '08000930705': 309, '85023': 620, 'yaxxx': 4454, 'operator': 323, '150p/msg': 310, 'flatter': 3108, 'january': 1169, '5': 311, '87066': 312, 'hour': 904, 'whoever': 4394, 'between': 314, 'enemy': 1614, 'buy': 315, 'even': 318, 'rooms': 1868, 'burgundy': 2758, 'quickly': 3850, 'ltd': 320, 'something': 602, 'winner': 332, 'unique': 1984, 'name': 322, '29/03/05': 2329, '09061790121': 1020, 'freephone': 504, 'baby': 722, 'never': 929, '80608': 1434, 'pobox': 324, '0871-872-9758': 2130, '69866': 1428, 'txtauction': 692, 'ready': 430, 'throwin': 4218, 'vu': 2003, 'quiz': 325, 'fgkslpopw': 3093, 'fml': 1139, 'special': 326, 'educational': 3019, 'start': 327, 'rebel': 3874, 'sunshine': 798, 'hw': 1691, '£2': 399, 'usher': 1992, 'sure': 328, '08719839835': 2177, '10p': 338, 'top': 330, 'pending': 3734, 'internet': 3317, 'press': 949, 'use': 331, 'gbp': 3164, 'id=820554ad0a1705572711&first=true¡c': 3292, 'super': 1265, 'steering': 4102, '8p/min': 1450, 'gettin': 3174, 'xmas': 333, 'cusoon': 2914, '//www': 334, 'colour': 342, 'since': 674, '0800': 335, 'child': 1548, 'msg+ticket@kiosk': 3577, 'around': 339, '09050000878': 2185, '4utxt': 2403, 'calls': 340, 'wanted': 995, 'dating': 344, '2find': 1395, 'offers': 426, 'fa': 1624, '69888': 2437, 'week-stop': 2012, 'double': 345, 'easy': 346, 'flood': 3114, 'anna': 2581, '69969': 2440, 'ass': 2613, 'friends': 348, '400mins': 2375, 'opportunity': 3682, 'cinema': 634, 'diff': 2959, 'b-blue': 2637, 'oooh': 3678, 'across': 1457, 'half': 349, 'him': 350, '1327': 545, 'mobileupd8': 354, '83118': 2466, 'wkly': 397, 'everyone': 3052, 'b-': 2636, 'net': 357, 'pick': 358, 'somewhere': 1915, 'txtin': 988, 'prizes': 1835, '150p/tone': 705, 'prepayment': 1834, 'update': 364, 'charity': 633, '24': 2318, 'pobox36504w45wq': 1219, 'welcome': 365, 'hug': 1688, 'sit': 1901, '800': 370, 'nt': 1204, '3g': 830, 'darlin': 1583, 'kick': 1172, '97n7qp': 2495, 'ac/w/icmb3cktz8r7': 2526, 'worth': 366, '87077': 843, 'outage': 3696, 'indian': 3304, '£350': 367, '[sic]': 2508, 'huh': 581, 'wonder': 2026, 'fuck': 1145, '2003': 369, 'also': 371, 'story': 975, 'rcd': 3864, 'yr': 488, 'ask': 374, 'sex': 392, '#5000': 1005, 'bx': 2763, 'best': 375, 'accident': 1069, 'congratulations': 376, 'gonna': 379, 'hitman': 3258, 'provided': 1842, 'may': 381, 'drinks': 1604, 'responce': 3914, 'empty': 460, 'minutes': 383, 'loads': 915, 'genuine': 1658, 'opt': 386, 'thinking': 1277, 'real': 388, 'bluetooth': 495, '*a': 2046, 'another': 717, '08718726978': 2169, 'amongst': 2574, 'txts': 394, 'commercial': 2872, '10p/min': 400, 'went': 487, '150p/mtmsgrcvd18+': 2282, 'gower': 3198, 'into': 508, '6': 401, 'already': 402, 'pocketbabe': 1220, 'answer': 404, 'asked': 405, 'currently': 411, 'etc': 414, 'aathi': 1067, 'fun': 416, 'amy': 2579, 'a30': 2514, 'getting': 418, 'it‘s': 3331, 'treat': 1968, 'game': 465, 'straight': 1259, 'guess': 419, 'cost£1': 637, 'brah': 1511, 'ill': 421, 'contention': 2885, 'job': 909, 'problem': 951, 'down': 500, 'other': 591, 'information': 423, 'envelope': 1615, 'medical': 1762, 'neo69': 3610, 'early': 736, 'lines': 1739, 'said': 432, 'things': 435, 'mmmmm': 3548, 'lancaster': 3402, 'unlimited': 438, 'dvd': 735, 'erm': 3040, 'wan': 439, 'superb': 4149, 'which': 440, 'sky': 600, 'dogging': 458, 'goal': 1664, 'ordered': 1211, 'wish': 441, 'area': 448, 'big': 449, 'burger': 1519, 'bit': 450, 'check': 452, 'yesterday': 701, 'del': 455, 'showered': 4022, 'details': 456, 'mumtaz': 928, 'y': 1000, 'either': 459, '07/11/04': 1327, 'dun': 641, 'first': 461, 'definite': 2935, 'freemsg': 463, 'legs': 3418, 'psp': 3838, 'f=': 1623, 'rude': 1873, 'frnd': 464, '530': 1420, 'gt': 3212, 'getzed': 466, 'saturday': 525, 'alert': 1074, 'guys': 468, 'left': 471, 'long': 472, '-msg': 2060, 'numbers': 473, 'poly': 475, 'link': 758, 'issues': 1167, '40411': 2378, 'praveesh': 3803, 'shop': 479, 'vehicle': 4335, 'sweet': 480, 'carefully': 2798, 'thinks': 481, '£3': 490, 'fone': 890, 'processed': 1836, '2004': 492, '1da': 2293, 'inviting': 656, 'gamestar': 1651, 'cd': 496, '£75': 1309, 'discount': 499, 'eatin': 3015, 'prove': 1841, 'dreams': 501, 'horniest': 3268, 'tncs': 688, 'haha': 506, 'installation': 3313, 'keep': 509, 'sleep': 970, 'wallpaper': 2005, 'minute': 663, '10/06/03': 2260, '88600': 1061, 'search': 672, 'hubby': 1687, 'truly': 1283, 'ldn': 510, 'log': 512, 'screwd': 3977, 'esaplanade': 3042, 'look': 513, '2wt': 2346, 'ppm150': 3801, 'exorcist': 1620, 'luck': 514, 'web': 2008, 'th': 1949, 'no1': 518, 'nothing': 519, 'burrito': 2759, 'weeks': 537, 'mjzgroup': 3545, 'party': 520, 'cooking': 2889, '83332': 2467, 'entitled': 740, '80878': 1052, 'toclaim': 689, 'r*reveal': 522, 'reward': 523, 'sam': 1876, 'wife': 697, 'fm': 3117, 'bill': 1498, 'ringtones': 524, 'bluetoothhdset': 2698, 'special-call': 526, 'tiime': 4223, 'eng': 882, 'california': 2772, 'wed': 2010, 'gayle': 3163, 'specially': 527, '11': 704, 'affections': 2544, 'outstanding': 3702, 'mean': 1192, 'summer': 528, 'sim': 1898, 'tensed': 4192, 'u-find': 531, 'v': 534, 'xuhui': 4443, 'phb1': 3749, 'visit': 535, 'accounting': 2531, 'walk': 536, 'oncall': 3673, 'nokia6650': 1796, 'inform': 1164, 'working': 538, 'petrol-rs': 3746, 'ever': 741, 'fantasy': 742, 'wkent/150p16+': 2023, 'yet': 540, 'benefits': 2682, 'polys': 781, 'full': 1645, 'skillgame': 1253, 'flirting': 3111, '£150': 541, 'remember': 1229, 'ref': 1228, '0870': 542, '08712460324': 543, 'alone': 626, '2kbsubject': 2337, '25p': 547, 'else': 879, '5wb': 549, 'divorce': 2974, '62468': 550, '41782': 2379, 'seat': 1883, 'actually': 552, 'celeb': 1100, 'hold': 1156, 'uk/ow': 4290, 'bad': 849, 'xclusive@clubsaisai': 4440, 'excuse': 1127, 'available': 553, 'awaiting': 554, 'via': 807, 'bbd': 2664, '2mrw': 2340, 'away': 555, 'abroad': 2519, 'films': 1630, 'book': 557, 'wedding': 4380, 'pesky': 3743, 'invaders': 1709, '4info': 832, 'calling': 558, 'cash-in': 560, 'wipro': 4410, 'cheap': 562, 'com/newsletter': 2869, 'official': 774, '08704439680': 2120, 'nokia/150p': 3637, 'called': 724, 'ice': 750, 'continued': 2887, 'upgrading': 4313, 'messaged': 3525, 'tc': 683, 'choose': 563, 'fall': 3079, 'comuk': 564, 'degrees': 2936, '08712402902': 2137, 'boat': 2700, 'causing': 2806, 'costa': 566, 'asian': 2609, 'sexual': 4001, 'cr9': 567, 'okie': 933, 'amore': 2575, 'short': 1892, '08719899229': 2179, 'trust': 4263, 'credits': 568, '25/f': 1394, 'advise': 1072, 'croydon': 569, 'callfreefone': 1527, 'cs': 570, '08712300220': 703, 'fantastic': 573, 'food': 574, 'loverboy': 1748, 'bulbs': 1518, 'heart': 578, 'hmv': 579, '08717111821': 2158, '2channel': 2333, 'hours': 580, 'trouser': 4262, 'inc': 582, 'maximize': 585, 'summers': 4146, 'means': 586, 'reslove': 3912, 'must': 587, 'ex': 1619, 'nice': 588, 'strtd': 4124, 'season': 1243, 'pass': 592, '2005': 1390, 'silent': 1897, 'pc': 593, 'way': 610, 'supply': 1266, 'people': 594, 'john': 910, 'rates': 597, 'says': 598, 'sk38xh': 599, 'doubletxt': 2992, 'surprise': 605, 'cheese': 1546, 'luxury': 1187, 'these': 606, 'told': 607, 'mila': 1767, 'claims': 1554, 'oso': 775, 'unsub': 608, '1stchoice': 2297, 'wake': 609, '08712402972': 2138, 'eerie': 878, 'whatever': 611, 'thing': 686, '£200': 612, 'lightly': 3427, 'office': 1207, '08707509020': 614, '400thousad': 2376, '09050090044': 615, 'textbuddy': 1946, '50/pm': 619, 'thk': 687, '09058099801': 2202, 'fancy': 645, 'willing': 2018, '$': 2039, 'videosound': 4341, '9pm': 2498, 'secs': 3980, 'address': 623, 'age16': 624, 'belly': 2678, 'aight': 625, 'hard': 652, 'announcement': 627, 'model': 3556, 'biz': 629, 'comes': 635, 'avoiding': 2634, 'coming': 636, 'dad': 639, 'bergkamp': 2683, 'fakeye': 3078, 'dunno': 642, 'friendship': 1644, 'email': 643, 'oja': 3668, 'fantasies': 646, '420': 2380, 'randomly': 1847, 'fromm': 1144, 'frnds': 647, 'gay': 648, 'god': 650, 'goto': 651, 'arrow': 2606, 'cold': 1557, 'holder': 653, 'makin': 3483, 'asleep': 2612, 'selling': 3990, 'eating': 1610, 'wit': 1300, 'horny': 654, 'hooked': 3265, '31p': 2357, 'invited': 655, 'yhl': 4463, '7250i': 836, 'chinese': 1550, 'standard': 796, 'bathing': 2659, 'lot': 657, 'n-gage': 3592, 'made': 659, 'matches': 660, 'sac': 3955, 'dracula': 1602, 'limited': 3431, 'max10mins': 661, '89545': 1062, 'meeting': 662, 'mail': 924, 'mum': 665, 'forgot': 891, 'norm150p/tone': 666, '£3/wk': 1004, 'o2': 667, 'plan': 668, 'cops': 2892, 'rentl': 961, 'range': 3860, 'pobox334': 669, 'experiencehttp': 3067, 'quite': 671, 'set': 673, 'bt': 859, 'lookin': 1745, 'conform': 2882, 'sir': 675, 'died': 1597, 'cup': 1108, 'maga': 3476, 'smile': 676, '08718726971': 2168, 'juz': 755, 'zouk': 4481, 'sony': 677, 'stockport': 680, '09058094565': 2196, 'ambitious': 2571, 'store': 681, 'telling': 684, 'tenerife': 685, 'afternoon': 1462, 'warner': 4371, 'harlem': 3232, 'japanese': 3342, 'trip': 691, 'urawinner': 693, 'wait': 696, 'fones': 3120, 'nikiyu4': 3625, '150pm': 706, 'iknow': 3296, 'bray': 1512, 'action': 848, 'happend': 3228, '20': 708, 'guy': 896, 'ass*': 2614, '50p': 709, '123': 2270, '80062': 710, '82277': 712, '83355': 713, '=': 714, '07808': 2091, '50p/wk': 2411, '10am-9pm': 1379, '@': 715, 'ar': 718, 'arrive': 719, 'asap': 720, 'b4': 721, '0776xxxxxxx': 1330, 'sang': 3960, 'brand': 723, 'men': 1764, 'slip': 4039, 'newest': 1202, 'came': 725, 'arsenal': 1079, 'blank': 853, 'car': 726, 'computer': 728, 'noline': 932, 'coz': 729, 'cum': 730, 'ave': 1081, '08700621170150p': 2112, 'done': 733, 'sell': 3989, 'eat': 737, 'm8s': 1755, 'enough': 738, 'wkend': 2022, '08714712388': 2147, 'hasbro': 3233, 'entered': 739, 'count': 2899, 'renewal': 3902, 'finished': 744, '02085076972': 2078, '08712405022': 1349, 'following': 745, 'timi': 4226, 'footy': 3123, 'goodmorning': 746, 'having': 748, 'e-threats': 3010, 'woo': 4423, '08709222922': 1345, '08000776320': 1334, 'lesson': 1736, 'irritated': 3322, 'immediately': 751, 'jordan': 752, 'joy': 753, 'jus': 754, 'replying': 784, 'lar': 757, 'woods': 4424, 'little': 759, 'maneesha': 3489, 'return': 1863, 'likes': 3430, 'stayin': 4098, 'card': 861, 'lunch': 760, 'adult': 1071, 'man': 761, 'buffy': 2752, 'renewed': 3903, 'sib': 4026, 'mind': 765, 'mine': 766, 'sptv': 1922, 'regalportfolio': 3891, 'missed': 767, 'boy': 2726, 'month': 768, '08701417012': 1341, 'voicemail': 1294, 'most': 769, 'gate': 3162, 'selection': 790, 'mrng': 771, '2waxsto': 2344, 'neva': 772, 'pence': 1215, 'nyt': 773, 'pa': 776, '//alto18': 2064, 'bahamas': 850, 'parents': 777, 'plz': 778, 'cr01327bt': 1572, 'sub': 797, 'pobox84': 779, 'polyphonic': 780, 's&c': 788, 'logo/pic': 1743, 'uttered': 4324, 'aft': 2547, 'kills': 3383, 'angry': 1474, 'expiry': 3069, 'sale': 789, 'returned': 3922, 'sister': 792, '09094646899': 1375, 'langport': 1730, 'santa': 1877, 'future': 894, 'plyr': 3770, 'w': 2004, 'sp': 793, 'space': 794, 'bugis': 1517, 'cock': 2858, 'test': 799, 'brownies': 2741, 'though': 800, '£250k': 2036, 'thought': 801, 'geeee': 3170, 'children': 1549, 'mfl': 3530, 'm263uz': 1189, 'tickets': 802, 'true': 804, 'vary': 806, 'cancer': 2788, 'hurry': 1690, '4txt/120p': 2402, 'accept': 847, 'suprman': 1267, '31': 2355, 'two': 805, 'wine': 2020, 'wants': 808, 'wasn': 4373, 'pin': 1820, 'wid': 811, 'wot': 812, 'hotel': 1159, 'xchat': 813, 'zed': 815, '48922': 2394, '£900': 817, 'mr': 1778, 'unable': 1288, '08712405020': 819, 'audition': 1484, '08715705022': 820, '50perwksub': 1049, '10am-7pm': 821, 'upgrade': 1988, 'timing': 4227, 'imagine': 3298, '145': 822, 'sing': 1900, 'infernal': 1705, 'street': 976, 'cardiff': 2794, 'meetins': 3515, '150p/msgrcvdhg/suite342/2lands/row/w1j6hl': 823, '2optout': 827, 'chennai': 1547, '2nite': 826, 'jamster': 1168, 'gudnyt': 3215, '30': 828, '09099726429': 2249, 'hava': 3235, '3510i': 829, '50pm': 2412, '114/14': 1023, '4742': 831, '4u': 833, '5we': 835, 'steps': 4103, 'radio': 3854, '786': 837, '03': 2080, '8': 838, '1225': 2269, '81151': 839, '08718738034': 2173, 'singles': 1249, '09061221066': 1019, '83600': 840, '20/f': 2303, 'distance': 2972, '87239': 844, 'cam': 1530, 'mobilesvary': 3553, 'unsold': 4309, '9am-11pm': 845, 'bed': 851, 'believe': 852, 'both': 855, 'adrian': 2539, '861': 1443, 'box39822': 856, 'break': 857, 'tear': 1271, 'lots': 921, 'bslvyl': 858, 'busy': 860, 'sick': 1246, 'roommate': 3938, 'com1win150ppmx3age16': 864, 'kavalan': 3370, 'company': 865, 'correct': 866, 'smoking': 1909, 'cdgt': 1539, 'izzit': 1716, 'm39m51': 3471, 'nattil': 3602, 'records': 957, 'couple': 867, 'cw25wx': 869, 'rumour': 3949, 'click': 1104, 'delivered': 870, 'chat80155': 2825, 'forth': 3130, '£50award': 4495, 'didnt': 872, 'doll': 2984, 'dload': 873, 'audrey': 2625, 'doin': 874, 'soo': 4061, '153': 1386, 'support': 979, 'each': 876, 'booking': 2705, 'male': 1190, 'ec2a': 877, 'row': 3941, 'simply': 1247, 'ends': 880, 'energy': 881, 'evening': 883, 'few': 887, 'lady': 3400, 'tbs/persolvo': 4179, 'approx': 1479, 'five': 888, 'further': 893, 'hell': 1673, 'gd': 895, 'ha': 897, 'complete': 2875, '£600': 4498, 'haf': 898, 'hav': 899, 'farrell': 3082, 'head': 900, 'collected': 1559, 'finally': 1135, 'hop': 903, 'cause': 1099, 'upgrdcentre': 4314, 'ibiza': 905, 'ip4': 907, 'password': 941, 'java': 908, 'pizza': 3762, 'notxt': 1803, 'cable': 2770, 'leh': 912, 'liao': 914, '08712466669': 2140, 'round': 1870, 'loan': 916, 'local': 917, 'login=': 919, 'kit': 3387, 'xxxxx': 4447, '82468': 1437, 'rally': 955, 'txtstop': 1974, 'married': 925, '08719181513': 1355, 'coca-cola': 2857, 'mate': 926, 'catches': 2804, 'pre-book': 3805, 'hrs': 1686, 'once': 935, 'pouch': 3797, 'po19': 3772, 'optout': 937, 'paid': 938, 'partner': 940, 'voda': 993, 'checked': 1544, 'pm': 944, 'quality': 1224, 'pod': 945, 'ppm': 948, 'quoting': 954, 'conacted': 2877, 'reference': 958, '09061209465': 1018, 'registered': 960, 'frm': 1143, 'row/w1j6hl': 962, 'row/w1jhl': 963, 'ac/u/goldviking': 2523, 'rs': 964, 'sending': 965, 'shortly': 967, 'spook': 973, 'stuff': 977, 'shirt': 4014, 'subscriber': 978, 'yo': 2034, 'textpod': 983, 'than': 984, 'lotr': 1746, 'scoring': 1880, 'till': 987, 'anonymous': 2583, '…': 1310, 'jorge-shock': 3353, 'eastenders': 1609, 'unredeemed': 989, 'videochat': 990, 'blow': 1503, 'honi': 3262, 'pete': 3744, 'videophones': 991, 'vip': 992, 'mistakes': 3544, 'w111wx': 994, 'landlineonly': 3403, 'cine': 1102, 'watch': 996, 'whats': 997, 'batchlor': 2658, 'movies': 3572, 'wonderful': 998, 'mathematics': 3502, 'world': 999, 'asks': 1482, 'yrs': 1003, 'monthlysubscription@50p/msg': 3566, 'ibh': 1693, '05': 1010, '07xxxxxxxxx': 1011, 'nasdaq': 1787, '08000938767': 1012, '08452810073': 1014, 'presents': 3813, '08702840625': 1015, 'passport': 3725, 'mistake': 1769, '02072069400': 2076, '08717898035': 1016, '087187262701': 1017, 'choices': 2837, 'unbelievable': 4296, '09066362231': 1021, '11mths': 1024, 'continent': 2886, 'atrocious': 2622, '11mths+': 1025, '125gift': 1027, '150p/min': 1028, 'gentle': 1657, '150ppermesssubscription': 1029, '08718738002': 2172, 'mailbox': 3479, 'capital': 2792, '18yrs': 1031, 'training': 1965, '1956669': 1032, '1winaweek': 1033, 'jesus': 3347, 'wknd': 4417, '200': 1034, 'broken': 2737, '25': 1036, '2day': 1037, 'tkts': 1958, '3gbp': 1038, 'obey': 3660, 'lifetime': 1737, '3lp': 1039, '3qxj9': 1041, 'lvblefrnd': 3467, '3uz': 1042, 'scotsman': 1881, 'nora': 3641, '4-tc': 1043, 'toxic': 4247, 'app': 1077, '434': 1044, 'impression': 3300, 'uk/wave/wave': 4293, 'i‘m': 3333, 'raining': 1846, 'shy': 4024, '50/week': 1047, '50gbp/mtmsg18': 1048, 'roses': 3939, 'tscs': 1284, '60p/min': 1050, 'fund': 3150, 'figures': 3098, 'gimmi': 3176, 'say/ask': 3968, '80182': 1051, '30th': 2354, 'far': 1132, '81303': 1053, '146tf150p': 2276, '82242': 1054, 'isn': 3326, '84128': 1056, 'individual': 3305, '89080': 1448, '87121': 1058, '08718727870': 1352, '87575': 1059, 'attracts': 2624, '88039': 1060, 'antelope': 2585, 'scammers': 3970, 'meant': 1761, '8wp': 1064, '9': 1065, '2007': 1391, 'mrt': 3575, '9ae': 1066, 'handed': 3225, 'abta': 1068, 'add': 1070, 'ago': 1073, 'mf': 3529, 'through': 1952, '2end': 2334, 'amazing': 1075, 'move': 3570, 'apartment': 1076, 'current': 1579, 'ard': 1078, 't-mobile': 1940, 'explain': 3070, 'august': 1080, 'babes': 1083, 'incredible': 1701, '0870241182716': 1343, 'bag': 1084, 'bank': 1085, 's3xy': 3952, 'become': 1086, 'biggest': 1087, 'understanding': 4300, 'nxt': 1804, 'habit': 3221, 'rstm': 1871, 'billed': 1088, 'bt-national': 1516, 'birthday': 1089, 'india': 1703, 'black': 1090, 'survey': 1937, 'boytoy': 1093, 'acl03530150pm': 2533, 'bring': 1094, 'is-': 3324, 'brings': 1095, 'brother': 1096, 'bx420': 1097, 'bx420-ip4-5we': 1098, 'air': 1468, 'cheaper': 1101, 'city': 1103, '09064019014': 1368, 'close': 1105, 'ignore': 1697, 'contacted': 1107, '$5': 1312, '89938': 2486, 'subs': 4130, 'cute': 1109, 'daily': 1110, 'msging': 3580, 'dark': 1111, 'dead': 1112, 'december': 1113, 'den': 1114, 'blackberry': 2692, 'student': 4125, 'depends': 1115, 'install': 3312, 'weed': 2011, 'everything': 3053, 'leading': 3416, 'twilight': 1972, 'difficult': 1116, 'basic': 1488, 'obviously': 3662, 'second': 3979, 'dinner': 1117, 'halloween': 1668, 'disturb': 1118, 'cuddle': 2911, 'doesn': 1119, 'door': 1120, '2wu': 2347, 'slept': 1905, 'darren': 1585, 'canary': 1532, 'kept': 1171, 'download': 1121, 'amplikater': 2577, 'downloads': 1122, 'begin': 1495, 'nah': 3596, 'during': 1123, '08718730555': 2170, 'uk/wrc': 1979, 'exciting': 1126, 'eyes': 1128, '449050000301': 2388, 'possession': 3791, 'f': 1129, 'rec': 3876, '3aj': 1407, 'family': 1130, 'fancies': 1131, 'speedchat': 1919, 'fast': 1133, 'feeling': 1134, 'cyclists': 2918, 'flight': 3110, 'connect': 1565, 'fixed': 1136, 'closingdate04/09/02': 2848, '32323': 2360, 'flower': 1138, 'football': 1140, 'frens': 1142, 'germany': 1146, 'addamsfa': 1459, '1yf': 2299, 'goes': 1147, 'goin': 1148, 'choice': 1551, '09050005321': 2188, 'happens': 1150, '07786200117': 1332, 'jess': 3346, 'happiness': 1151, 'havent': 1153, 'heard': 1154, 'high': 1155, 'follow': 1635, 'holding': 1157, 'hows': 1161, 'shldxxxx': 4015, 'ibhltd': 1163, 'insurance': 1165, 'lect': 1179, 'hide': 3252, 'no-910': 3632, 'tooth*': 4240, 'k52': 1170, 'created': 1574, 'knows': 1173, 'ladies': 1174, 'largest': 1176, 'ldnw15h': 1177, 'anyway': 1476, 'leaving': 1178, 'heater': 1671, 'members': 1194, 'library': 1181, 'linerental': 1183, 'dizzamn': 2975, 'postcode': 1830, 'worry': 1305, 'listen': 1184, 'london': 1185, 'professional': 3825, 'loving': 1186, 'block': 2694, 'whr': 4399, '08081560665': 1338, 'ummifying': 4295, 'm26': 1188, 'making': 3484, '85222': 2474, 'filth': 3101, 'med': 1193, 'connection': 2883, 'membership': 3518, '18+6*£1': 1388, 'forgiven': 3124, 'mobilesdirect': 1196, 'mon': 1197, 'gender': 1655, 'macleran': 3474, 'moon': 1198, 'availa': 2630, 'msgs': 1199, 'mths': 1200, 'netcollex': 1201, 'strong-buy': 1929, 'none': 1203, 'blokes': 2696, 'picture': 1819, 'ntwk': 1205, 'response': 1861, 'dates': 1588, 'o': 1206, 'usual': 4321, 'open': 1209, 'or2stoptxt': 1210, 'oredi': 1212, 'drinkin': 3002, 'original': 1213, 'pay': 1214, 'calls1': 2785, 'personal': 1216, '08701237397': 2114, 'pub': 1222, '2mwen': 2341, 'purchase': 1223, 'quick': 1225, '195': 2292, 'recent': 1227, 'remove': 1230, 'request': 1231, '6031': 1424, 'nbme': 3605, 'ring': 1232, 'room': 1234, 'ansr': 1475, '7634': 2448, 'sad': 1235, '2/3': 2302, 'cornwall': 1568, 'free2day': 1642, 'sat': 1236, 'matched': 3500, 'explosive': 1621, 'shared': 4009, 'saucy': 1237, 'save': 1238, 'saw': 1239, 'sk3': 1251, 'saying': 1240, 'graphics': 3203, 'sch': 1241, 'unkempt': 1985, 'packs': 1812, 'school': 1242, '09058094594': 2197, 'sis': 1250, 'calls£1/minmobsmore': 2786, 'skilgme': 1252, 'slow': 1254, 'c-red': 2767, 'song': 1256, 'rgds': 3925, 'starwars3': 1258, 'renewing': 3904, 'studying': 1261, 'age16+£1': 2550, 'subscription': 1263, 'sunday': 1264, 'nichols': 3617, 'symbol': 1268, 'bcm1896wc1n3xx': 1491, 'tcr/w1': 1269, '2rcv': 1398, 'team': 1270, 'textoperator': 1273, 'theatre': 1274, '09058095201': 2199, 'their': 1275, 'wet': 2014, 'tho': 1278, 'tht': 1279, 't-c': 4164, 'thurs': 1280, '0906346330': 2216, 'mins/texts': 3540, 'sumthin': 1935, 'least': 1734, 'til': 1281, 'tscs087147403231winawk': 1285, 'using': 1290, 'valentines': 1291, 'valid12hrs': 1292, 'case': 1536, 'watching': 1295, 'wearing': 1297, 'com/etlp/dining': 2868, 'wil': 1299, 'wiv': 1301, 'wont': 1302, 'workin': 1304, '£1500': 1307, '09061702893': 1361, '£4': 1308, '#': 1311, '*****up': 1314, '*smiles*': 1315, '+447797706009': 1316, 'explicitly': 3072, '+std': 1317, '4give': 2397, 'gbp5/month': 3168, '-sub': 1319, '07801543489': 2090, '/': 1320, '4t&ctxt': 1417, '//careers': 1321, 'cough': 2896, '008704050406': 1322, '02/09/03': 1323, 'help08718728876': 1674, 'recovery': 3883, '0207': 1324, 'park': 1814, '0578': 1325, '06': 1326, '07734396839': 1328, '07742676969': 1329, '08000407165': 1333, 'lord': 3454, '08002888812': 1335, '08002986906': 1336, 'rgent': 3926, '08006344447': 1337, 'vatian': 4334, 'discreet': 1598, '08701417012150p': 1342, '08712101358': 1346, 'ag': 1463, '2ez': 2336, 'started': 1924, '08712317606': 1347, '08712402050': 1348, 'tonights': 1962, '0871750': 1350, '08718726270': 1351, '08718730666': 1353, '08719180248': 1354, 'physics': 3754, 'skip': 4035, '09050001808': 1356, 'afew': 2543, '09050003091': 1357, '09058091854': 1358, 'nvm': 3655, 'euro': 1616, '09058094597': 1359, '09058094599': 1360, '09061743386': 1362, '09061743806': 1363, 'sea*': 3978, '09063458130': 1365, '2moro': 1396, '09064011000': 1366, 'satisfy': 1878, '09065989182': 1369, '09066350750': 1370, 'dat': 1586, '09066358152': 1371, 'deliver': 2939, 'mb': 3507, 'cashbin': 1537, '09066364589': 1372, 'info@vipclub4u': 3308, '09066380611': 1373, '09066612661': 1374, 'saved': 3967, '100percent-real': 1378, '113': 1381, 'darkness': 2923, 'nimbomsons': 3626, '12': 1382, '12mths': 1383, '69855': 2435, '150p/mtmsg': 1384, '150p/mtmsgrcvd18': 1385, '169': 1387, 'm221bp': 3469, 'optin': 3685, 'goodies': 3193, '18p/txt': 1389, '21': 1392, '24hrs': 1393, '08708800282': 2126, '2stop': 1399, '08706091795': 2122, 'expired': 3068, '300': 1401, 'doctor': 2979, '300%': 1402, '31/10/04': 1404, 'equally': 3038, 'lanka': 3405, '3100': 1405, '3hrs': 1408, '3ss': 1409, '40533': 1410, '41685': 1411, '447801259231': 1412, '4fil': 1415, '4t&': 1416, 'logo': 1742, '50/msg': 1418, 'espe': 3044, '5249': 1419, '5free': 1421, '5k': 1422, '5226': 2417, '61200': 1425, '69669': 1426, '69696': 1427, '6months': 1429, 'hui': 3282, 'xxxxxx': 4448, '6wu': 1430, '77': 1432, '80082': 1433, '81618-': 1436, 'lingerie': 3432, 'funny': 1649, '83049': 1438, '83222': 1439, '83383': 1440, 'speciale': 4073, '85069': 1441, 'bay': 2662, '8552': 1442, '89693': 1449, 'prepare': 3810, '09050001295': 2187, '92h': 1451, '<forwarded': 1452, '____': 1453, 'ac/u/nat27081980': 1455, 'aco&entry41': 1456, 'added': 1460, 'affairs': 1461, 'against': 1464, 'ages': 1466, 'ah': 1467, 'catch': 2803, '139': 2274, 'alfie': 1469, 'along': 1470, 'alrite': 1471, 'alwys': 1472, 'among': 1473, 'ow': 3706, 'aom': 1477, '09057039994': 2192, 'poly3': 3784, '47': 2393, 'arms': 1480, 'askd': 1481, 'asp': 1483, 'base': 1487, 'bathe': 1489, 'bb': 1490, 'bears': 1492, 'because': 1493, 'ing': 3309, 'relationship': 3895, 'bedroom': 1494, 'bari': 2653, 'mquiz': 3573, 'behind': 1496, 'bird': 1499, 'birds': 1500, 'blind': 1501, 'blonde': 1502, 'omw': 3672, 'blu': 1504, 'boss': 1505, 'box326': 1507, 'sea': 1882, '087147123779am-7pm': 2145, 'box385': 1508, 'box97n7qp': 1509, 'living': 3441, 'british': 1513, 'broadband': 2736, 'britney': 1514, 'bro': 1515, 'farm': 3081, 'bus': 1520, 'c52': 1521, 'sold': 4057, 'cal': 1522, 'call09050000327': 1523, 'band': 2645, 'callback': 1525, '09061701461': 2207, 'callertune': 1526, '88800': 2480, 'calls£1/minmobsmorelkpobox177hp51fl': 1528, '08702490080': 2119, 'camera/video': 1531, 'datebox1282essexcm61xn': 1587, 'cannot': 1533, 'features': 3086, 'careful': 1534, 'cars': 1535, 'e=': 1607, 'cashto': 1538, 'center': 1540, 'instructions': 1707, 'cha': 1541, '-pls': 2061, 'sms-08718727870': 1910, 'charges': 1542, 'chatting': 1543, 'christmas': 1553, '09061213237': 2205, 'claire': 1555, 'coin': 1556, 'learn': 1733, 'landmark': 3404, 'nicky': 3619, 'colleagues': 1558, 'receivea': 3878, 'com/index': 1560, '0871277810810': 2142, 'comin': 1561, 'community': 1562, 'locaxx': 3446, 'compare': 1563, 'costs': 1569, 'country': 1570, 'termsapply': 4193, 'cover': 1571, 'placement': 3763, 'crave': 1573, 'goodnite': 3194, 'credited': 1575, 'cross': 1576, '20p/min': 2308, 'hearted': 3238, 'cruise': 1577, 'hari-': 3231, 'darling': 1584, 'dave': 1589, 'accessible': 2528, 'de': 1590, 'jaya': 1719, 'deal': 1591, '08714342399': 2144, 'death': 1592, 'deliveredtomorrow': 1596, 'campus': 2787, 'donate': 1600, 'promotion': 3831, 'eaten': 3014, 'dot': 1601, 'dream': 1603, 'tnc': 1959, 'duchess': 1606, 'earlier': 1608, 'eurodisinc': 1617, 'mid': 1765, '[…]': 2509, 'eve': 1618, 'eye': 1622, 'readers': 1850, 'fault': 1626, 'webeburnin': 4379, 'nasty': 1788, 'run': 1874, 'feels': 1628, '$2': 2040, 'filthy': 1631, 'csh11': 2909, 'gent': 1656, 'fixedline': 1633, 'followed': 1636, 'fr': 3133, 'star': 4094, 'understand': 1983, 'msgrcvd18+': 3581, 'forevr': 1637, '08717895698': 2164, 'forums': 1639, 'free>ringtone': 1643, 'callin': 2784, 'fullonsms': 1646, 'funky': 1648, 'nookii': 3638, 'g696ga': 1650, 'stitch': 4107, 'garden': 1652, 'ceri': 2811, 'gave': 1653, '69876': 2436, 'gaytextbuddy': 1654, '08719180219': 2174, 'moved': 3571, 'george': 1659, 'getstop': 1660, 'go2': 1663, 'bare': 2652, 'gr8prizes': 1665, 'granite': 1666, 'spanish': 1918, 'hardcore': 1669, 'queen': 3849, 'hee': 1672, 'explicit': 3071, 'hppnss': 3275, 'henry': 1675, '9061100010': 2490, 'cream': 2904, 'stamped': 1923, 'aint': 2556, 'hmm': 1680, 'hols': 1681, 'hotels': 1683, 'bambling': 2644, 'housewives': 1684, 'howz': 1685, 'hun': 1689, 'hurt': 3285, 'promo': 1839, '08450542832': 2107, 'husband': 3287, 'id': 1694, '42810': 2384, 'idea': 1695, 'murder': 3586, 'msg/subscription': 3578, 'idew': 1696, 'p£3': 3846, 'improved': 1698, 'include': 1700, '4xx26': 2405, '08719181503': 2176, 'ths': 1953, 'indicate': 1704, 'wan2': 2006, 'pt2': 1843, 'met': 3528, 'informed': 1706, 'violet': 2000, '08709501522': 2127, 'interested': 1708, 'thgt': 4210, 'iscoming': 1711, '07946746291/07880867867': 2098, 'rodds1': 3934, 'tattoos': 4176, 'islands': 1712, 'issue': 1713, 'itcould': 1714, 'medicine': 3513, 'nokias': 1797, 'iz': 1715, 'jay': 1718, 'smsco': 1911, 'jsco': 1720, 'grow': 3209, 'jst': 1721, 'american': 2572, 'july': 1722, 'kano': 1723, '4th': 2401, 'kidz': 3381, 'polyph': 1828, 'kiss*': 1725, 'knew': 1726, '29/m': 2331, 'fake': 3077, 'knw': 1727, 'dey': 2951, 'la': 1728, 'landlines': 1729, 'beer': 2673, '4get': 2396, 'laptop': 1731, 'le': 1732, '08717890890£1': 2163, 'akon-lonely>>>': 2559, '391784': 2367, 'bids': 2687, 'guarantee': 3213, 'leaves': 1735, '300603': 2350, 'lily': 1738, 'liverpool': 1741, 'pause': 3730, 'matthew': 3503, 'lover': 1747, 'smart': 1907, 'loyal': 1749, 'ls1': 1750, 'ls15hb': 1751, 'pixels': 3761, 'record': 3880, 'm8': 1754, 'crisis': 2907, '07973788240': 2100, 'm95': 1756, 'note': 1801, 'macho': 1757, '09061749602': 2212, 'marry': 1758, 'max£7': 1759, 'meet+greet': 1763, 'might': 1766, 'missing': 1768, 'mmmm': 1771, 'moment': 1773, 'advance': 2540, 'pobox202': 3775, 'morefrmmob': 1776, 'agree': 2553, 'msg150p': 1779, 'msg@150p': 1780, 'register': 1857, 'munsters': 1783, 'dear1': 2930, 'muz': 1784, 'na': 1785, 'sporadically': 4085, 'nan': 1786, 'natalja': 1790, 'jurong': 3362, 'rebooting': 3875, 'juan': 3357, 'near': 1791, 'needs': 1792, 'no-440': 1793, 'tells': 1944, 'nok': 1794, 'nokia6600': 1795, '08715203677': 2154, '177': 2290, 'normal': 1800, 'notice': 1802, 'ph': 1816, 'uk-mobile-date': 4289, 'nachos': 3594, 'o2fwd': 1805, 'orchard': 1807, '#150': 2038, 'orig': 1808, '08700469649': 2111, 'mess': 3523, 'otherwise': 1809, 'promised': 3830, 'peak': 1815, 'phoenix': 1817, 'praying': 3804, 'php': 1818, '140ppm': 2275, 'yes-910': 4460, '8th': 2489, 'plans': 1822, 'plenty': 1823, 'pobox45w2tg150p': 1824, 'point': 1825, 'abiola': 2517, 'fruit': 3146, 'pole': 1826, 'polyh': 1827, 'pool': 1829, 'potter': 1831, 'highest': 3253, 'sensitive': 3993, 'hottest': 3271, 'vewy': 1997, 'practice': 1832, 'prof': 1837, 'prompts': 1840, 'motivate': 3569, 'q': 1844, 'quote': 1845, 're-schedule': 1848, '150p/text': 2285, 'reality': 1851, 'received': 1853, 'receiving': 1854, 'grooved': 3206, 'recently': 1855, 'atm/sms': 2621, 'red': 1856, 'box334': 2720, '08452810071': 2108, 'removal': 1858, 'chillaxin': 2834, 'requests': 1860, 'mention': 3520, 'results': 1862, 'e14': 3011, 'reveal': 1864, '07753741225': 2089, 'ringtoneking': 1866, 'rock': 1867, 'chit-chat': 2835, 'rose': 1869, '5/9/03': 2406, 'safe': 1875, '*****': 2042, 'la1': 3397, 'scared': 1879, 'secretly': 1884, 'seeds': 1885, 'senthil': 1888, 'somebody': 1914, 'concert': 2879, 'sept': 1889, 'shot': 1893, 'shuhui': 1895, 'sign': 1896, 'sitting': 1902, 'math': 3501, '*sighs*': 2052, 'six': 1903, 'slo': 1906, 'smiling': 1908, 'snow': 1912, 'sofa': 1913, 'sports': 1921, 'tb': 4178, 'station': 1925, 'barry': 2656, 'stones': 1926, 'study': 1930, 'subscribe6gbp/mnth': 1932, 'subscribed': 1933, 'sw7': 1938, 'tampa': 1942, 'untamed': 1986, 'tape': 1943, 'themob': 1951, 'tis': 1955, 'title': 1956, 'meanwhile': 3511, 'tomo': 1960, 'lib': 3422, 'tones2u': 1961, 'took': 1963, 'andros': 2580, 'dogs': 2983, 'apnt': 2590, 'vic': 4338, 'travel': 1967, 'txt-2-shop': 1973, 'tyrone': 1975, 'bstfrnd': 2745, 'creative': 2905, 'kegger': 3375, 'westlife': 2013, 'cost£3': 2895, 'u4': 1976, '08718725756': 2166, 'uk/games': 1978, 'umma': 1981, '09066364349': 2231, 'captaining': 2793, 'unbreakable': 1982, 'upload': 1989, 'upto': 1990, 'vale': 1993, 'pants': 3715, 'vegas': 1994, 'verify': 1995, 'version': 1996, 'village': 1999, 'visionsms': 2001, 'voice': 2002, 'website': 2009, 'wicklow': 2016, 'win-82050': 2019, 'wisdom': 2021, 'wow': 2027, 'wrc': 2028, 'dirtiest': 2965, 'wrong': 2029, 'x49': 2030, 'yahoo': 2031, 'yest': 2033, '||': 2035, '&xxx': 2041, 'mono#': 3563, '**free': 2044, 'hesitant': 3251, '*adoring': 2047, '*billing': 2048, '9996': 2497, '*covers': 2049, 'cab': 2768, '*devouring': 2050, 'callers': 2783, 'file': 3099, '*have': 2051, '*smacks': 2053, '*turn*': 2054, 'penis': 3735, 'lastest': 3409, '+cheer': 2055, '+£400': 2056, '-4': 2057, 'meaning': 3510, 'sickness': 4027, '-call': 2058, 'olave': 3670, '-d': 2059, '-the': 2062, '-|': 2063, '//doit': 2065, '//gotbabes': 2066, '//img': 2067, '//tms': 2068, '0089': 2070, '0121': 2071, '01223585334': 2073, '0207-083-6089': 2075, '02073162414': 2077, 'box61': 2725, '0430-jul-05': 2081, 'poly#': 3781, '050703': 2082, '06/11/04': 2083, '07008009200': 2084, '07090201529': 2085, '07090298926': 2086, '07099833605': 2087, '07808247860': 2092, 'ate': 2618, 'april': 2596, '07808726822': 2093, '07815296484': 2094, '07821230901': 2095, '0789xxxxxxx': 2097, '0796xxxxxx': 2099, 'brandy': 2730, 'level': 3421, '08002988890': 2102, 'ciao': 2839, 'ish': 3325, '08081263000': 2103, '08448350055': 2104, 'kath': 3369, '08448714184': 2105, '6669': 2431, 'budget': 2750, '0845': 2106, '08452810075over18': 2109, '08700435505150p': 2110, '08701213186': 2113, '0870141701216+': 2115, '087016248': 2116, '08701752560': 2117, '087018728737': 2118, '08707500020': 2123, 'bull': 2753, '0870753331018+': 2124, '08707808226': 2125, 'celebrated': 2808, '0871-4719-523': 2128, 'ac/u/bootydelious': 2522, '0871-872-9755': 2129, 'throw': 4217, '087104711148': 2131, '087123002209am-7pm': 2132, '08712402578': 2135, '08712402779': 2136, '08712404000': 2139, '0871277810910p/min': 2143, '08714712379': 2146, 'nowadays': 3650, '08714712394': 2148, 'url&gt': 4318, 'hsbc': 3277, '08715203028': 2150, 'hockey': 3260, '08715203649': 2151, '08715203656': 2153, '08715203685': 2155, '08715203694': 2156, 'colin': 2862, 'stop2': 4112, '08715500022': 2157, '08717168528': 2159, 'uptown': 4316, 'system': 4160, '08717205546': 2160, '08717507382': 2161, 'minuts': 3541, 'marsms': 3495, '08717509990': 2162, '08718711108': 2165, '08718726970': 2167, '08718738001': 2171, 'passion': 3723, '08719899217': 2178, 'echo': 3016, '8714714': 2478, '08719899230': 2180, '09041940223': 2181, '09050000301': 2182, '09050000928': 2186, '09053750005': 2190, 'kb': 3372, '09056242159': 2191, '09058094454': 2194, '09058094507': 2195, '09058095107': 2198, 'smile*': 4045, '09058097189': 2200, '09058097218': 2201, 'realy': 3872, 'deepest': 2934, '09061104276': 2203, '09061221061': 2206, 'fear': 3085, '09061701851': 2208, '09061701939': 2209, '09061743810': 2210, '09061790125': 2213, 'anythin': 2588, '09063442151': 2215, 'gbp4': 3167, '09064017295': 2217, '09064017305': 2218, 'virtual': 4348, '09064018838': 2219, 'desert': 2945, 'studentfinancial': 4126, '09064019788': 2220, '09065069120': 2221, 'midnight': 3532, '09065171142-stopsms-08': 2222, '09065394514': 2225, '45pm': 2392, '09065394973': 2226, 'others': 3692, '09065989180': 2227, '09066358361': 2228, 'mk45': 3546, 'monthly': 3565, 'bother': 2713, 'vikky': 4343, '09066362220': 2229, '09066368327': 2232, '09066368470': 2233, '09066368753': 2234, '09066382422': 2235, '09066649731from': 2236, 'dnt': 2977, '09066660100': 2237, 'gap': 3159, '09071512432': 2238, 'wks': 4418, '09071512433': 2239, '09071517866': 2240, 'quit': 3851, '09077818151': 2241, '09090204448': 2242, 'webadres': 4378, 'chile': 2833, '09090900040': 2243, '09094100151': 2244, '09096102316': 2246, '09099726395': 2248, '09099726481': 2250, 'activ8': 2535, '23f': 2316, '09099726553': 2251, 'preferably': 3807, '1-month': 2255, '1/08/03': 2256, 'oblisingately': 3661, 'spider': 4079, '1/1': 2257, '100p/sms': 2261, '1013': 2262, '1030': 2263, '10am': 2264, '1131': 2265, 'lkpobox177hp51fl': 3442, 'browse': 2742, '1146': 2266, '26': 2322, '118p/msg': 2268, '12hours': 2271, 'staff': 4092, '13/10/04': 2272, 'known': 3392, '13/4/04': 2273, '150p/day': 2278, 'ertini': 3041, '150p/msgrcvd': 2280, '21/11/04': 2309, '150p/mt': 2281, 'bcm': 2667, '150p/rcvd': 2283, '150p/sms': 2284, '150ppmsg': 2287, '151': 2288, '16+only': 2289, 'heavy': 3239, '18/11/04': 2291, '1er': 2294, 'dbuk': 2927, '1mega': 2295, '1st4terms': 2296, '1stone': 2298, '2-4-1': 2300, 'boltblue': 2704, 'nobody': 3634, 'wiskey': 4414, '2006': 2305, '2025050': 2306, '20m12aq': 2307, '21/m': 2311, 'housing': 3272, '6missed': 2443, 'played': 3765, 'promise': 3829, '21870000>hi': 2312, '21st': 2313, '22': 2314, '2309': 2315, '6hl': 2442, '23g': 2317, '24/10/04': 2319, '24/7mp': 2320, '24m': 2321, '27/03': 2325, 'rg21': 3924, '28/5': 2326, 'classes': 2841, '28days': 2327, 'alaipayuthe': 2560, '2c': 2332, '2exit': 2335, 's89': 3953, 'mobstorequiz10ppm': 3555, '2optout/d3wv': 2343, '2wks': 2345, 'incorrect': 3302, '2yr': 2348, '3000': 2349, '300603t&csbcm4235wc1n3xx': 2351, '50ppm': 2414, '30apr': 2352, '30s': 2353, '600': 2426, 'books': 2707, '310303': 2356, '32/f': 2358, 'alertfrom': 2562, '32000': 2359, '350': 2361, '35p': 2362, 'pissed': 3760, '3650': 2363, '3680': 2364, 'bob': 2701, 'lyricalladie': 3468, '373': 2365, '3750': 2366, 'body': 2702, 'relax': 3896, '3lions': 2368, '3miles': 2369, 'myparents': 3590, '4*lux': 2371, '4-7/12': 2372, 'lou': 3457, '40': 2373, '400': 2374, '42049': 2381, 'thrown': 4219, 'exams': 3059, '4217': 2382, 'parkin': 3719, '42478': 2383, '44': 2385, 'din': 2962, '4403ldnw1a7rw18': 2386, '448712404000>please': 2387, '45': 2389, '450pw': 2391, '49/month': 2395, '4goten': 2398, '4jx': 2399, '50%': 2407, '50/mtmsgrcvd18+': 2408, 'hustle': 3288, '5000': 2409, '50ea': 2410, '83738': 2470, '50pmmorefrommobile2bremoved-mobypobox734ls27yf': 2413, 't91': 4165, '50rcvd': 2415, 'nightnight': 3622, '50s': 2416, 'killed': 3382, '526': 2418, '528': 2419, '545': 2421, '5wq': 2424, '60': 2425, '60p': 2427, 'polo': 3780, '61610': 2428, '6230': 2430, '68866': 2432, '69200': 2434, '69888nyt': 2438, '69911': 2439, 'showed': 4020, '6zf': 2444, '731': 2445, '74355': 2446, 'authorise': 2628, 'videos': 4340, '75max': 2447, '7684': 2449, '£6': 4497, '7732584351': 2450, 'sos': 4066, '7876150ppm': 2452, 'shsex': 4023, '7ws': 2454, 'western': 4388, '7zs': 2455, '80': 2456, '8000930705': 2457, '80086': 2458, '8027': 2461, 'cnupdates': 2856, '82324': 2464, '83338': 2468, '84': 2471, '84122': 2472, '84484': 2473, 'wishing': 4412, '85233': 2475, '864233': 2476, '8800': 2479, 'babygoodbye': 2641, '8883': 2481, 'tacos': 4167, '89034': 2483, '89105': 2484, '8ball': 2487, '8pm': 2488, '9307622': 2493, '946': 2494, '9th': 2499, 'charming': 2821, 'mcfly-all': 3509, '9yt': 2500, '<fone': 2501, 'jiayin': 3349, '<ukp>2000': 2502, '=d': 2503, '>>>more': 2504, '@kiosk': 2505, 'no-762': 3631, '@warner': 2506, 'makes': 3482, '[colour=red]text[/colour]txtstar': 2507, 'clos1': 2847, '_': 2510, 'thedailydraw': 4202, 'a-': 2511, 'multimedia': 3584, 'a-green': 2512, 'a21': 2513, 'ab': 2515, 'conserve': 2884, 'abj': 2518, 'abuse': 2520, 'ac/smsrewards': 2521, 'ac/u/hmmross': 2524, 'acc': 2527, 'accommodation': 2529, 'accordingly': 2530, 'gail': 3156, 'cared': 2796, 'cantdo': 2791, 'it+both': 3327, 'ache': 2532, 'actual': 2536, 'adi': 2537, 'adp': 2538, 'advising': 2541, 'noworriesloans': 3651, 'newport': 3615, 'affidavit': 2545, 'fans': 3080, 'afraid': 2546, 'e-mail': 3009, 'afternon': 2548, 'again*loving': 2549, 'agency': 2551, 'barbie': 2651, 'agent': 2552, 'airtel': 2558, 'mom': 3558, 'aldrine': 2561, 'alerts': 2563, 'algarve': 2564, 'exam': 3058, 'allalo': 2565, 'alle': 2566, 'allow': 2567, 'shower': 4021, 'alot': 2568, 'yay': 4455, 'alright': 2569, 'amanda': 2570, 'ammae': 2573, 'amount': 2576, 'lifpartnr': 3426, 'message**thanks': 3524, 'experience': 3066, 'amrita': 2578, 'poor': 3787, 'ke': 3373, 'merely': 3522, 'anniversary': 2582, 'pushbutton': 3843, 'anot': 2584, 'anybody': 2586, 'anyone': 2587, 'rp176781': 3942, 'anythingtomorrow': 2589, 'apology': 2592, 'applausestore': 2593, 'application': 2594, 'borderline': 2709, 'aretaking': 2597, 'areyouunique': 2598, 'arises': 2599, 'arithmetic': 2600, 'armand': 2601, 'arnt': 2602, 'arrange': 2603, 'lemme': 3419, 'arrested': 2604, 'fastest': 3083, 'interfued': 3316, 'di': 2953, 'arrived': 2605, 'artists': 2607, 'cards': 2795, 'asa': 2608, 'asjesus': 2610, 'asking': 2611, 'associate': 2615, 'asssssholeeee': 2616, 'at/your': 2617, 'nose': 3645, 'b4utele': 2640, 'atlast': 2620, 'attend': 2623, 'aunts': 2626, 'auto': 2629, 'avble': 2631, 'avenge': 2632, 'sleeps': 4036, 'mre': 3574, 'avent': 2633, 'a£1': 2635, 'b4190604': 2638, 'backdoor': 2642, 'devils': 2950, 'bandages': 2646, 'bangb': 2647, 'bangbabes': 2648, 'banned': 2649, 'banneduk': 2650, 'barkleys': 2654, 'barolla': 2655, 'basketball': 2657, 'batsman': 2660, 'battery': 2661, 'bbc': 2663, 'j89': 3334, 'bbdeluxe': 2665, 'condition': 2880, 'laugh': 3412, 'blake': 2693, 'bcm4284': 2668, 'premium': 3809, 'reply-': 3908, 'bcmsfwc1n3xx': 2669, 'deals': 2928, 'gloucesterroad': 3182, 'beautiful': 2671, 'felt': 3091, 'becoz': 2672, 'beer-rs': 2674, 'heehee': 3241, 'restrict': 3918, 'trishul': 4261, 'beers': 2675, 'beg': 2676, 'box139': 2717, 'belive': 2677, 'belovd': 2679, 'ben': 2680, 'beware': 2685, 'bhaskar': 2686, 'bin': 2688, 'bitch': 2689, 'bitching': 2690, 'bottom': 2714, 'bk': 2691, 'bpo': 2727, 'bloke': 2695, 'talent': 4172, 'dodgey': 2980, 'board': 2699, 'born': 2712, 'bought': 2715, 'shag': 4004, 'box177': 2718, 'latests': 3410, 'box245c2150pm': 2719, 'scary': 3971, 'box403': 2721, 'ni8': 3616, 'box420': 2722, 'box42wr29c': 2723, 'box434sk38wp150ppm18+': 2724, 'whore': 4397, 'brainless': 2728, 'brainy': 2729, 'winnersclub': 4408, 'breaker': 2731, 'breaks': 2732, 'bridal': 2733, 'brilliant': 2734, 'bros': 2738, 'brothas': 2739, 'bruv': 2743, 'bubbletext': 2746, 'outages': 3697, 'bucks': 2747, 'buddy': 2748, 'buddys': 2749, 'buffet': 2751, 'bunch': 2754, 'bundle': 2755, 'manchester': 3486, 'turns': 4271, 'buns': 2756, 'burden': 2757, 'busty': 2760, 'buying': 2761, 'buzz': 2762, 'bx526': 2764, 'profile': 3826, 'bye': 2765, 'cabin': 2769, 'friday': 3141, 'call2optout/': 2773, 'eta': 3047, 'discussed': 2970, 'call2optout/4qf2': 2774, 'call2optout/674&': 2775, 'sexiest': 3999, 'floating': 3113, 'call2optout/hf8': 2777, 'call2optout/j': 2778, 'prospects': 3834, 'call2optout/lf56': 2779, 'call2optout=j5q': 2780, 'callcost': 2781, 'callcost150ppmmobilesvary': 2782, 'prem': 3808, 'cann': 2789, 'mobsi': 3554, 'carlos': 2801, 'caught': 2805, 'celebrate': 2807, 'cell': 2809, 'stolen': 4110, 'mee': 3514, 'centre': 2810, 'challenge': 2812, 'champlaxigating': 2813, 'champneys': 2814, 'fren': 3140, 'chances': 2815, 'channel': 2816, 'persevered': 3741, 'wasn\\x92t': 4374, 'chaps': 2817, 'charged@150p/msg': 2819, 'charles': 2820, 'chart': 2822, 'saristar': 3963, 'charts': 2823, 'chasing': 2824, 'chatter': 2826, 'cheating': 2827, 'pooja': 3786, 'checkboxes': 2828, 'cheer': 2829, 'cheetos': 2830, 'chg': 2831, 'chik': 2832, 'chloe': 2836, 'colours': 2866, 'tgxxrz': 4200, 'chrgd@50p': 2838, 'required': 3910, 'claimcode': 2840, 'classic': 2842, 'cleaning': 2843, 'clearing': 2844, 'clip': 2845, 'frmcloud': 3142, 'clock': 2846, 'club>>': 2849, 'clubmoby': 2850, 'clubzed': 2851, 'cm': 2852, 'jocks': 3351, 'cmon': 2853, 'cnn': 2855, 'coco': 2859, 'coincidence': 2861, 'trial': 4259, 'colleg': 2864, 'college': 2865, 'com/enjoy': 2867, 'elaine': 3023, 'comfort': 2871, 'uh': 4287, 'companies': 2873, 'video/pic': 4339, 'das': 2925, 'compensation': 2874, 'na-tuition': 3593, 'completely': 2876, 'confirmd': 2881, 'ou': 3693, 'cookies': 2888, 'period': 3740, 'cool-mob': 2890, 'coping': 2891, 'costing': 2894, 'couldn\\x92t': 2898, 'course': 2900, 'courtroom': 2901, 'cousin': 2902, 'deep': 2933, 'cps': 2903, 'creep': 2906, 'cro1327': 2908, 'frog-axel': 3145, 'madoke': 3475, 'cst': 2910, 'cuddling': 2912, 'cumin': 2913, 'custom': 2915, 'customercare': 2916, 'cutefrnd': 2917, 'mmsto': 3549, 'daddy': 2919, 'dancin': 2921, 'darkest': 2922, 'dartboard': 2924, 'daytime': 2926, 'dear-loving': 2929, 'decide': 2931, 'deck': 2932, 'delayed': 2937, 'delicious': 2938, 'deltomorrow': 2940, 'deluxe': 2941, 'dena': 2942, 'dengra': 2943, 'desires': 2946, 'desparate': 2947, 'despite': 2948, 'detroit': 2949, 'roger': 3935, 'diamonds': 2956, 'dick': 2957, 'spl': 4082, 'didn‘t': 2958, 'difference': 2960, 'digits': 2961, 'dining': 2963, 'dirty': 2966, 'oni': 3675, 'disaster': 2967, 'poly/true/pix/ringtones/games': 3783, 'disconnect': 2968, 'drink': 3001, 'discuss': 2969, 'dismissial': 2971, 'dizzee': 2976, 'dob': 2978, 'scores': 3974, 'doesn\\\\': 2981, 'domain': 2985, 'dontcha': 2986, 'panasonic': 3713, 'dooms': 2988, 'gbp/sms': 3165, 'shangela': 4007, 'dorothy@kiefer': 2989, 'nights': 3623, 'doublemins': 2990, 'playing': 3768, 'doubt': 2993, 'photos': 3753, 'downloaded': 2994, 'dozens': 2995, 'dr': 2997, 'dreamz': 2998, 'dresser': 3000, 'kaypoh': 3371, 'drinking': 3003, 'drunken': 3004, 'drvgsto': 3005, 'dry': 3006, 'formatting': 3129, 'dubsack': 3007, 'due': 3008, 'easier': 3012, 'nusstu': 3654, 'tarpon': 4174, 'eckankar': 3017, 'edge': 3018, 'eh74rr': 3022, 'electricity': 3024, 'greece': 3205, 'elvis': 3025, 'em': 3026, 'emailed': 3027, 'enemies': 3029, '|': 4482, 'english': 3030, 'enjoyed': 3031, 'enna': 3032, 'entropication': 3034, 'enuff': 3035, 'epi': 3036, 'floppy': 3115, 'eppolum': 3037, 'er': 3039, 'escape': 3043, 'especially': 3045, 'sexychat': 4002, 'evening*': 3048, 'evenings': 3049, 'events': 3050, 'sleepwell&amp': 4037, 'evn': 3055, 'evr': 3056, 'exactly': 3057, 'excellent': 3060, 'except': 3061, 'html': 3278, 'exp': 3063, 'tonexs': 4236, 'expect': 3064, 'expecting': 3065, 'extreme': 3073, 'f>>>': 3075, 'facts': 3076, 'lions': 3435, 'fats': 3084, 'feb-april': 3087, 'rush': 3951, 'february': 3088, 'feelin': 3089, 'fidalfication': 3094, 'fieldof': 3095, 'fiend/make': 3096, 'fifa': 3097, 'fills': 3100, 'filthyguys': 3102, 'fishrman': 3105, 'proverb': 3836, 'fix': 3106, 'flat': 3107, 'flea': 3109, 'lt': 3463, 'flurries': 3116, 'follows': 3119, 'fonin': 3121, 'fool': 3122, 'forgiveness': 3125, 'formally': 3127, 'format': 3128, 'for£38': 3131, 'outside': 3701, 'four': 3132, 'frank': 3135, 'freak': 3136, 'pure': 3841, 'free*': 3137, 'freeentry': 3138, 'freemsg>fav': 3139, 'frndship': 3143, 'frndz': 3144, 'glo': 3180, 'fucking': 3147, 'lionm': 3433, 'ful': 3148, 'functions': 3149, 'funeral': 3152, 'screaming': 3976, 'furniture': 3153, 'guilty': 3217, 'fyi': 3154, 'g2': 3155, 'gamb': 3157, 'gang': 3158, 'gaps': 3160, 'gas': 3161, 'gbp1': 3166, 'gee': 3169, 'getiing': 3171, 'selfindependence': 3988, 'geting': 3172, 'gigolo': 3175, 'gin': 3177, 'skateboarding': 4032, 'gives': 3178, 'glad': 3179, 'global': 3181, 'jackpot': 3336, 'go2sri': 3184, 'goals': 3185, 'gold': 3186, 'golddigger': 3187, 'goldviking': 3188, 'golf': 3189, 'hudgi': 3281, 'gone': 3190, 'goodfriend': 3192, 'gossip': 3196, 'gotta': 3197, 'gprs': 3199, 'gran': 3200, 'uup': 4325, 'grand': 3201, 'grandfather': 3202, 'gravity': 3204, 'itz': 3330, 'papers': 3717, 'ground': 3207, 'growing': 3210, 'gsoh': 3211, 'gudni8': 3214, 'kerala': 3377, 'guide': 3216, 'guoyang': 3219, 'hack': 3222, 'hair': 3223, 'handle': 3226, 'hanging': 3227, 'harder': 3230, 'journey': 3354, 'havin': 3236, 'headset': 3237, 'hectic': 3240, 'helen': 3243, 'nationwide': 3601, 'hella': 3244, 'help08700621170150p': 3245, 'help08714742804': 3246, 'helpful': 3247, 'helpline': 3248, 'heltini': 3249, 'hill': 3254, 'wining': 4407, 'hire': 3255, 'his/her': 3256, 'history': 3257, 'hmv1': 3259, 'hon': 3261, 'hoo': 3263, 'redeemable': 3885, 'hook': 3264, 'hoped': 3267, 'hostel': 3269, 'hotmix': 3270, 'however': 3273, 'hp20': 3274, 'http//tms': 3279, 'http//www': 3280, 'hundred': 3283, 'hunks': 3284, 'payment': 3732, 'hurts': 3286, 'shagged': 4005, 'hypotheticalhuagauahahuagahyuhagga': 3289, 'ibn': 3290, 'id=1b6a5ecef91ff9*37819&first=true18': 3291, 'ideal': 3293, 'ikea': 3295, 'onlyfound': 3677, 'imma': 3299, 'incident': 3301, 'info@txt82228': 3307, 'inpersonation': 3310, 'inst': 3311, 'instant': 3314, 'instantly': 3315, 'interview': 3319, 'wen': 4386, 'interviews': 3320, 'ipad': 3321, 'irritating': 3323, 'italian': 3328, 'loans': 3444, 'iyo': 3332, 'jamz': 3339, 'spoken': 4084, 'jane': 3340, 'janinexx': 3341, 'outta': 3703, 'jazz': 3343, 'spending': 4077, 'jeri': 3344, 'jersey': 3345, 'ji': 3348, 'jiu': 3350, 'logos': 3449, 'jstfrnd': 3356, 'juliana': 3358, 'june': 3360, 'junna': 3361, 'k61': 3363, 'k718': 3364, 'kalaachutaarama': 3365, 'kallis': 3366, 'karaoke': 3367, 'katexxx': 3368, 'ken': 3376, 'key': 3378, 'kickoff': 3379, 'kids': 3380, 'kinda': 3384, 'kingdom': 3385, 'kisses*': 3386, 'kittum': 3388, 'rayan': 3861, 'kl341': 3389, 'renting': 3905, 'knowing': 3391, 'l8r': 3395, 'l8tr': 3396, 'la3': 3398, 'la32wu': 3399, 'lanre': 3406, 'latr': 3411, 'laxinorficated': 3413, 'lccltd': 3414, 'leadership': 3415, 'legitimat': 3417, 'lesser': 3420, 'libertines': 3423, 'lick': 3424, 'lik': 3428, 'sabarish': 3954, 'liked': 3429, 'priscilla': 3818, 'total': 4245, 'lionp': 3434, 'lip': 3436, 'literally': 3439, 'lives': 3440, 'lnly': 3443, 'lobby': 3445, 'logon': 3448, 'logos+musicnews': 3450, 'lonely': 3451, 'looks': 3453, 'lost': 3455, 'seing': 3986, 'police': 3779, 'lotto': 3456, 'stayed': 4097, 'low': 3459, 'low-cost': 3460, 'lower': 3461, 'ls278bb': 3462, 'ltdhelpdesk': 3464, 'lubly': 3465, 'lux': 3466, 'm60': 3472, 'maangalyam': 3473, 'maggi': 3477, 'mahal': 3478, 'main': 3480, 'major': 3481, 'rct': 3865, 'mall': 3485, 'yalrigu': 4451, 'mandy': 3488, 'subscribers': 4132, 'march': 3490, 'market': 3492, 'qi': 3847, 'marketing': 3493, 'marley': 3494, 'marvel': 3496, 'masteriastering': 3498, 'reffering': 3887, 'mat': 3499, 'maturity': 3504, 'max6/month': 3505, 'maximum': 3506, 'sometimes': 4060, 'mca': 3508, 'shining': 4012, 'melt': 3517, 'mens': 3519, 'rtm': 3946, 'menu': 3521, 'messages-text': 3526, 'scenario': 3972, 'messaging': 3527, 'mgs': 3531, 'mids': 3533, 'miiiiiiissssssssss': 3534, 'minapn': 3535, 'minimum': 3538, 'mising': 3542, 'mnths': 3550, 'mo': 3551, 'mobcudb': 3552, 'moms': 3559, 'monday': 3560, 'mone': 3561, 'mono': 3562, 'moral': 3567, 'mother': 3568, 'msg*': 3576, 'msg@£1': 3579, 'much/impede': 3582, 'music-trivia': 3587, 'my-tone': 3588, 'mymoby': 3589, 'mystery': 3591, 'naked': 3597, 'setting': 3997, 'nalla': 3598, 'names': 3599, 'naughty': 3603, 'nb': 3604, 'ne': 3606, 'nearly': 3607, 'needed': 3609, 'netun': 3611, 'networking': 3612, 'networks': 3613, 'neway': 3614, 'nigh': 3620, 'nigpun': 3624, 'okmail': 3669, 'ny': 3656, 'nit': 3627, 'nitro': 3628, 'no-165': 3629, 'no-434': 3630, 'noi\\x92m': 3636, 'pounded': 3798, 'nooooooo': 3639, 'nope': 3640, 'norcorp': 3642, 'normally': 3643, 'nos': 3644, 'paining': 3710, 'notifications': 3646, 'notified': 3647, 'notixiquating': 3648, 'november': 3649, 'nr31': 3652, 'num': 3653, 'ny-usa': 3657, 'nytho': 3658, 'occasion': 3663, 'offering': 3665, 'often': 3666, 'x29': 4438, 'teasing': 4184, 'oic': 3667, 'tram': 4252, 'olympics': 3671, 'ones': 3674, 'onion-rs': 3676, 'oops': 3679, 'opinion': 3680, 'opinions': 3681, 'opted': 3684, 'oranges': 3686, 'orc': 3687, 'xxuk': 4445, 'org': 3688, 'oru': 3690, 'sooooo': 4063, 'otbox': 3691, 'ouch': 3694, 'outbid': 3698, 'outfor': 3700, 'overheating': 3704, 'overtime': 3705, 'pain': 3709, 'painting': 3711, 'pale': 3712, 'subscribe': 4131, 'panties': 3714, 'paper': 3716, 'parco': 3718, 'whenevr': 4390, 'toll': 4233, 'soc': 4053, 'passes': 3722, 'secured': 3982, 'passionate': 3724, 'yetunde': 4462, 'past': 3727, 'posts': 3795, 'pataistha': 3728, 'pattern': 3729, 'paying': 3731, 'pdate_now': 3733, 'percentages': 3736, 'perfect': 3737, 'perform': 3738, 'peril': 3739, 'persons': 3742, 'petey': 3745, 'thnk': 4212, 'petticoatdreams': 3747, 'pg': 3748, 'philosophy': 3750, 'phone750': 3751, 'pie': 3755, 'pimples': 3757, 'pink': 3758, 'select': 3987, 'pints': 3759, 'planettalkinstant': 3764, 'poem': 3777, 'playin': 3767, 'plum': 3769, 'pmt': 3771, 'pobox114/14tcr/w1': 3773, 'pobox75ldns7': 3776, 'poly/200p': 3782, 'yorge': 4468, 'poo': 3785, 'pop': 3788, 'posh': 3790, 'possibility': 3792, 'potential': 3796, 'ppl': 3799, 'trained': 4251, 'ppt150x3+normal': 3802, 'prefer': 3806, 'rum': 3948, 'prescripiton': 3811, 'present': 3812, 'president': 3814, 'presleys': 3815, 'savamob-member': 3966, 'pretend': 3816, 'prince': 3817, 'privacy': 3819, 'prizeawaiting': 3820, 'prizeswith': 3821, 'pro': 3822, 'project': 3827, 'proper': 3832, 'propose': 3833, 'protect': 3835, 'proze': 3837, 'purchases': 3840, 'responsible': 3916, 'push': 3842, 'qlynnbv': 3848, 'racal': 3852, 'radiator': 3853, 'raise': 3856, 'rajas': 3857, 'randy': 3859, 'rayman': 3862, 'rays': 3863, 're-send': 3866, 'reached': 3867, 'reaching': 3868, 'series': 3995, 'reading': 3869, 'realize': 3871, 'recd@thirtyeight': 3877, 'recorded': 3881, 'recorder': 3882, 'recpt': 3884, 'refunded': 3889, 'reg': 3890, 'regard': 3892, 'regretted': 3893, 'regular': 3894, 'released': 3897, 'rem': 3898, 'tm': 4230, 'remains': 3899, 'reminder': 3900, 'removed': 3901, 'replys150': 3909, 'resizing': 3911, 'resolution': 3913, 'respond': 3915, 'rest': 3917, 'restrictions': 3919, 'resubmit': 3920, 'retrieve': 3921, 'reverse': 3923, 'rings': 3928, 'ringtone¡': 3929, 'ripped': 3931, 'ron': 3937, 'rounder': 3940, 'rt-king': 3944, 'rtf': 3945, 'rugby': 3947, 'running': 3950, 'sack': 3956, 'sacrifice': 3957, 'salary': 3959, 'santacalling': 3961, 'sara': 3962, 'served': 3996, 'sariyag': 3964, 'satisfied': 3965, 'scallies': 3969, 'score': 3973, 'scotch': 3975, 'section': 3981, 'sed': 3983, 'seeking': 3984, 'seem': 3985, 'sem': 3991, 'sends': 3992, 'sentence': 3994, 'wamma': 4367, 'settle': 3998, 'sextextuk': 4000, 'shampain': 4006, 'shesil': 4010, 'shinco': 4011, 'ship': 4013, 'shoot': 4016, 'shortcode': 4018, 'toss': 4244, 'shorts': 4019, 'sian': 4025, 'simonwatson5120': 4028, 'simpsons': 4029, 'singing': 4030, 'sized': 4031, 'skills': 4033, 'skins': 4034, 'slide': 4038, 'slurp': 4041, 'smartcall': 4043, 'smashed': 4044, 'smiley': 4046, 'smith-switch': 4048, 'sn': 4051, 'social': 4054, 'software': 4055, 'soiree': 4056, 'someday': 4058, 'sore': 4064, 'soundtrack': 4067, 'spam': 4071, 'sparkling': 4072, 'speed': 4075, 'spend': 4076, 'spjanuary': 4081, 'spoke': 4083, 'spot': 4086, 'spouse': 4087, 'springs': 4088, 'sprint': 4089, 'spun-out': 4090, 'stadium': 4091, 'stars': 4095, 'starve': 4096, 'staying': 4099, 'stays': 4100, 'stdtxtrate': 4101, 'stereophonics': 4104, 'stewartsize': 4105, 'sticky': 4106, 'stock': 4108, 'stocked': 4109, 'stone': 4111, 'stop2stop': 4113, 'stopcost': 4115, 'stopcs': 4116, 'stories': 4117, 'str*': 4118, 'str8': 4119, 'strings': 4120, 'strip': 4121, 'strokes': 4122, 'strt': 4123, 'stupid': 4127, 'subject': 4128, 'subletting': 4129, 'subscriptn3gbp/wk': 4134, 'subsequent': 4135, 'success': 4136, 'warned': 4370, 'sucks': 4138, 'suddenly': 4139, 'sufficient': 4140, 'suggest': 4142, 'suitemates': 4144, 'sullivan': 4145, 'sun0819': 4147, 'sunny': 4148, 'suppliers': 4150, 'suzy': 4151, 'swap': 4152, 'swat': 4153, 'sweatter': 4154, 'sweetheart': 4155, 'swimming': 4156, 'swoop': 4157, 'swtheart': 4158, 'synced': 4159, 't&cs/stop': 4161, 't&csbcm4235wc1n3xx': 4162, 't&csc': 4163, 'ta': 4166, 'tahan': 4168, 'taj': 4169, 'taken': 4171, 'tall': 4173, 'taxi': 4177, 'tc-llc': 4180, 'tddnewsletter@emc1': 4181, 'teach': 4182, 'tears': 4183, 'technical': 4185, 'teenager': 4186, 'teeth': 4187, 'telediscount': 4188, 'telephone': 4189, 'teletext': 4190, 'ten': 4191, 'terrorist': 4194, 'testing': 4195, 'vpod': 4355, 'text82228>>': 4196, 'textand': 4197, 'texted': 4198, 'texts/weekend': 4199, 'that\\x92s': 4201, 'theirs': 4203, 'themob>': 4204, 'themob>yo': 4205, 'theoretically': 4206, 'theory': 4207, 'there--': 4208, 'thesmszone': 4209, 'thm': 4211, 'thnq': 4213, 'thout': 4215, 'thru': 4220, 'yourinclusive': 4471, 'tiger': 4222, 'time-hope': 4224, 'times': 4225, 'tips': 4228, 'tirupur': 4229, 'tmr': 4231, 'toilet': 4232, 'tom': 4234, 'tones2you': 4235, 'tongued': 4237, 'tonite': 4238, 'topped': 4242, 'toppoly': 4243, 'totally': 4246, 'trackmarque': 4248, 'traditions': 4249, 'train': 4250, 'transaction': 4253, 'transfered': 4254, 'transferred': 4255, 'treated': 4256, 'trebles': 4257, 'tree': 4258, 'triple': 4260, 'tsandcs': 4265, 'tsunami': 4266, 'tune': 4267, 'tunji': 4268, 'turn': 4269, 'turning': 4270, 'twins': 4276, 'tv/': 4272, 'twenty': 4273, 'twiggs': 4274, 'twinks': 4275, 'tx': 4277, 'txt250': 4278, 'txt43': 4279, 'txt82228': 4280, 'txt>': 4281, 'txtx': 4283, 'tyler': 4284, 'types': 4285, 'ugh': 4286, 'uhhhhrmm': 4288, 'uk/reward': 4291, 'uk/text': 4292, 'ultimate': 4294, 'unclaimed': 4297, 'uncle': 4298, 'underdtand': 4299, 'uneventful': 4301, 'unhappiness': 4302, 'wotz': 4428, 'unicef': 4303, 'united': 4304, 'univ': 4305, 'university': 4306, 'unless': 4307, 'unsecured': 4308, 'unsubscribed': 4310, 'up+not': 4311, 'upd8': 4312, 'upstairs': 4315, 'ure': 4317, 'usc': 4319, 'usf': 4320, 'usually': 4322, 'uterus': 4323, 'uve': 4326, 'vaazhthukkal': 4328, 'vague': 4329, 'valentine': 4330, 'values': 4331, 'various': 4332, 'versus': 4337, 'videosounds+2': 4342, 'villa': 4345, 'virgin': 4346, 'vivek': 4349, 'vote': 4351, 'voted': 4352, 'vouch4me': 4353, 'vouchers-text': 4354, 'w/c': 4356, 'w/question': 4357, 'w1a': 4358, 'w1j': 4359, 'w1t1jy': 4360, 'w8in': 4362, 'wadebridge': 4363, 'waited': 4364, 'wales': 4365, 'walmart': 4366, 'warranty': 4372, 'waste': 4375, 'weather': 4376, 'web2mobile': 4377, 'weddingfriend': 4381, 'wednesday': 4382, 'weeks>': 4383, 'weirdy': 4384, 'wellda': 4385, 'were/are': 4387, 'we‘re': 4389, 'wherever': 4391, 'wherevr': 4392, 'wherre': 4393, 'whole': 4395, 'whom': 4396, 'whos': 4398, 'wifes': 4400, 'wild': 4401, 'ystrday': 4474, 'win150ppmx3age16': 4403, 'windows': 4404, 'winds': 4405, 'wings': 4406, 'wins': 4409, 'wire3': 4411, 'wishlist': 4413, 'wither': 4415, 'witout': 4416, 'women': 4421, 'wondering': 4422, 'worlds': 4426, 'worries': 4427, 'wouldn': 4429, 'write': 4430, 'wrote': 4432, 'wun': 4436, 'x-net': 4437, 'xafter': 4439, 'xin': 4441, 'xt': 4442, 'xxsp': 4444, 'xxxxxxxxxxxxxx': 4449, 'y87': 4450, 'yan': 4452, 'yards': 4453, 'yellow': 4456, 'yes-165': 4457, 'yes-434': 4458, 'yes-762': 4459, 'yifeng': 4464, 'yo-here': 4466, 'yoga': 4467, 'youre': 4470, 'youwanna': 4472, 'you\\x92re': 4473, 'ything': 4475, 'yun': 4476, 'yuou': 4477, 'zac': 4478, 'zoe': 4479, 'zoom': 4480, '\\x91morrow': 4483, '\\x93harry': 4484, '\\x96': 4485, '£1/minmobsmorelkpobox177hp51fl': 4486, '£125': 4488, '£1250': 4489, '£1450': 4490, '£1million': 4491, '£50': 4493, '£50-£500': 4494, '£54': 4496, '£79': 4500, '£s': 4501, '“': 4502, '“harry': 4503}\n"
     ]
    }
   ],
   "source": [
    "tokenizer = get_tokenizer('basic_english')\n",
    "\n",
    "class TextIterator(Dataset):\n",
    "    def __init__(self, data):\n",
    "        super().__init__()\n",
    "        self.data = data[\"Message\"].values.tolist()\n",
    "\n",
    "    def __len__(self):\n",
    "        return len(self.data)\n",
    "\n",
    "    def __getitem__(self, idx):\n",
    "        return self.data[idx]\n",
    "\n",
    "def yield_token(data_iter):\n",
    "    for i in data_iter:\n",
    "        yield tokenizer(i)\n",
    "\n",
    "data_iter = TextIterator(data)\n",
    "vocab = build_vocab_from_iterator(yield_token(data_iter), specials=[\"<pad>\", \"<unk>\"])\n",
    "vocab.set_default_index(vocab[\"<unk>\"])\n",
    "print(vocab.get_stoi())"
   ]
  },
  {
   "cell_type": "code",
   "execution_count": 10,
   "id": "1f5597ad-ad20-4248-b4b6-ed5c58766375",
   "metadata": {},
   "outputs": [],
   "source": [
    "class TextDataSet(nn.Module):\n",
    "    def __init__(self, data):\n",
    "        self.text = data[\"Message\"].values.tolist()\n",
    "        self.labels = data[\"Category\"].values.tolist()\n",
    "\n",
    "    def get_seq_tokens(self, idx):\n",
    "        tokens = [vocab[i] for i in tokenizer(self.text[idx])]\n",
    "        l = len(tokens)\n",
    "        return tokens, l\n",
    "\n",
    "    def get_labels(self, idx):\n",
    "        return int(l2i[self.labels[idx]])\n",
    "\n",
    "    def __len__(self):\n",
    "        return len(self.labels)\n",
    "\n",
    "    def __getitem__(self, idx):\n",
    "        seq, seq_len = self.get_seq_tokens(idx)\n",
    "        label = self.get_labels(idx)\n",
    "        return seq, label, seq_len\n",
    "\n",
    "def collat_fn(batch):\n",
    "    seq, label, seq_len = zip(*batch)\n",
    "    max_len = max(seq_len)\n",
    "    for i in range(len(batch)):\n",
    "        if len(seq[i]) != max_len:\n",
    "            for j in range(len(seq[i]), max_len):\n",
    "                seq[i].append(vocab[\"<pad>\"])\n",
    "    return torch.tensor(seq, dtype=torch.long), torch.tensor(label, dtype=torch.long) \n",
    "        "
   ]
  },
  {
   "cell_type": "code",
   "execution_count": 11,
   "id": "3677bf5c-9d5a-424f-9313-7461c2ed810f",
   "metadata": {},
   "outputs": [],
   "source": [
    "def train(model, dataset, epochs, lr, bs):\n",
    "    criterion = nn.CrossEntropyLoss()\n",
    "    optim = torch.optim.Adam(model.parameters(), lr=lr)\n",
    "    train_dataset = TextDataSet(dataset)\n",
    "    train_loader = DataLoader(train_dataset, batch_size=bs, collate_fn=collat_fn, shuffle=True)\n",
    "\n",
    "    for epoch in range(epochs):\n",
    "        total_loss_train = 0\n",
    "        total_acc_train = 0 \n",
    "        for seq, label in tqdm(train_loader):\n",
    "            pred = model(seq.to(device))\n",
    "            label = label.to(device)\n",
    "            loss = criterion(pred, label)\n",
    "            optim.zero_grad()\n",
    "            \n",
    "            correct = pred.argmax(axis=1) == label\n",
    "            acc = correct.sum().item() / correct.size(0)\n",
    "            total_acc_train += correct.float().sum().item()\n",
    "            total_loss_train += loss.item()\n",
    "\n",
    "            loss.backward()\n",
    "            torch.nn.utils.clip_grad_norm_(model.parameters(), 0.5)\n",
    "            optim.step()\n",
    "\n",
    "        print(f\"epoch: {epoch+1} loss: {total_loss_train/ len(train_dataset)} acc: {total_acc_train/len(train_dataset)}\")"
   ]
  },
  {
   "cell_type": "code",
   "execution_count": 12,
   "id": "4f5a5365-bbb0-4fcb-821c-9abf1248cf67",
   "metadata": {},
   "outputs": [],
   "source": [
    "from Classifier import Classifier\n",
    "model = Classifier(len(vocab), hparams[\"embedding_dim\"], hparams[\"n_heads\"], hparams[\"n_encoders\"], hparams[\"dff\"], hparams[\"batch_size\"]).to(device)"
   ]
  },
  {
   "cell_type": "code",
   "execution_count": 13,
   "id": "d1c875b1-7a13-4e09-bc91-4586c30ade15",
   "metadata": {},
   "outputs": [
    {
     "name": "stderr",
     "output_type": "stream",
     "text": [
      "100%|████████████████████████████████████████████████████████████████████████████████| 302/302 [00:04<00:00, 69.56it/s]\n"
     ]
    },
    {
     "name": "stdout",
     "output_type": "stream",
     "text": [
      "epoch: 1 loss: 0.231069816878779 acc: 0.8092868988391376\n"
     ]
    },
    {
     "name": "stderr",
     "output_type": "stream",
     "text": [
      "100%|████████████████████████████████████████████████████████████████████████████████| 302/302 [00:04<00:00, 71.34it/s]\n"
     ]
    },
    {
     "name": "stdout",
     "output_type": "stream",
     "text": [
      "epoch: 2 loss: 0.20192402022988049 acc: 0.9361525704809287\n"
     ]
    },
    {
     "name": "stderr",
     "output_type": "stream",
     "text": [
      "100%|████████████████████████████████████████████████████████████████████████████████| 302/302 [00:04<00:00, 71.77it/s]\n"
     ]
    },
    {
     "name": "stdout",
     "output_type": "stream",
     "text": [
      "epoch: 3 loss: 0.19517867714413759 acc: 0.9643449419568823\n"
     ]
    },
    {
     "name": "stderr",
     "output_type": "stream",
     "text": [
      "100%|████████████████████████████████████████████████████████████████████████████████| 302/302 [00:04<00:00, 71.28it/s]\n"
     ]
    },
    {
     "name": "stdout",
     "output_type": "stream",
     "text": [
      "epoch: 4 loss: 0.19223913397164288 acc: 0.9751243781094527\n"
     ]
    },
    {
     "name": "stderr",
     "output_type": "stream",
     "text": [
      "100%|████████████████████████████████████████████████████████████████████████████████| 302/302 [00:04<00:00, 72.55it/s]\n"
     ]
    },
    {
     "name": "stdout",
     "output_type": "stream",
     "text": [
      "epoch: 5 loss: 0.1903100008296334 acc: 0.9850746268656716\n"
     ]
    },
    {
     "name": "stderr",
     "output_type": "stream",
     "text": [
      "100%|████████████████████████████████████████████████████████████████████████████████| 302/302 [00:04<00:00, 72.54it/s]\n"
     ]
    },
    {
     "name": "stdout",
     "output_type": "stream",
     "text": [
      "epoch: 6 loss: 0.18908430554380465 acc: 0.988391376451078\n"
     ]
    },
    {
     "name": "stderr",
     "output_type": "stream",
     "text": [
      "100%|████████████████████████████████████████████████████████████████████████████████| 302/302 [00:04<00:00, 70.41it/s]\n"
     ]
    },
    {
     "name": "stdout",
     "output_type": "stream",
     "text": [
      "epoch: 7 loss: 0.18762117377165735 acc: 0.9941956882255389\n"
     ]
    },
    {
     "name": "stderr",
     "output_type": "stream",
     "text": [
      "100%|████████████████████████████████████████████████████████████████████████████████| 302/302 [00:04<00:00, 73.07it/s]\n"
     ]
    },
    {
     "name": "stdout",
     "output_type": "stream",
     "text": [
      "epoch: 8 loss: 0.18775641799566165 acc: 0.9950248756218906\n"
     ]
    },
    {
     "name": "stderr",
     "output_type": "stream",
     "text": [
      "100%|████████████████████████████████████████████████████████████████████████████████| 302/302 [00:04<00:00, 72.27it/s]\n"
     ]
    },
    {
     "name": "stdout",
     "output_type": "stream",
     "text": [
      "epoch: 9 loss: 0.18723937364953075 acc: 0.9958540630182421\n"
     ]
    },
    {
     "name": "stderr",
     "output_type": "stream",
     "text": [
      "100%|████████████████████████████████████████████████████████████████████████████████| 302/302 [00:05<00:00, 55.24it/s]"
     ]
    },
    {
     "name": "stdout",
     "output_type": "stream",
     "text": [
      "epoch: 10 loss: 0.18669389724533753 acc: 0.9983416252072969\n"
     ]
    },
    {
     "name": "stderr",
     "output_type": "stream",
     "text": [
      "\n"
     ]
    }
   ],
   "source": [
    "train(model, df_train, hparams[\"epoch\"], hparams[\"lr\"], hparams[\"batch_size\"])"
   ]
  },
  {
   "cell_type": "code",
   "execution_count": 14,
   "id": "6a77e01e-3848-4444-ad66-359c7a955605",
   "metadata": {},
   "outputs": [
    {
     "data": {
      "text/plain": [
       "(Category\n",
       " ham     634\n",
       " spam    572\n",
       " Name: count, dtype: int64,\n",
       " 1206)"
      ]
     },
     "execution_count": 14,
     "metadata": {},
     "output_type": "execute_result"
    }
   ],
   "source": [
    "df_train[\"Category\"].value_counts(), df_train[\"Category\"].count()"
   ]
  },
  {
   "cell_type": "code",
   "execution_count": 15,
   "id": "3b27c8b5-538e-45d0-963c-8fb997849f0b",
   "metadata": {},
   "outputs": [],
   "source": [
    "def predict(text):\n",
    "    tokens = tokenizer(text)\n",
    "    tokens = [vocab[w] for w in tokens]\n",
    "    tokens = torch.tensor([tokens])\n",
    "    pred = model(tokens.to(device))\n",
    "    return pred.argmax(dim=1)"
   ]
  },
  {
   "cell_type": "code",
   "execution_count": 16,
   "id": "23476a26-d859-4e3d-8171-cb16799c09e2",
   "metadata": {},
   "outputs": [],
   "source": [
    "def test(model, dataset, bs=4):\n",
    "    criterion = nn.CrossEntropyLoss()\n",
    "    train_dataset = TextDataSet(dataset)\n",
    "    train_loader = DataLoader(train_dataset, batch_size=bs, collate_fn=collat_fn, shuffle=True)\n",
    "\n",
    "    total_loss_train = 0\n",
    "    total_acc_train = 0 \n",
    "    model.eval()\n",
    "    for seq, label in tqdm(train_loader):\n",
    "        pred = model(seq.to(device))\n",
    "        label = label.to(device)\n",
    "        loss = criterion(pred, label)\n",
    "        \n",
    "        correct = pred.argmax(axis=1) == label\n",
    "        acc = correct.sum().item() / correct.size(0)\n",
    "        total_acc_train += correct.float().sum().item()\n",
    "        total_loss_train += loss.item()\n",
    "\n",
    "    print(f\"val_loss: {total_loss_train/ len(train_dataset)} acc: {total_acc_train/len(train_dataset)}\")"
   ]
  },
  {
   "cell_type": "code",
   "execution_count": 17,
   "id": "d1ade296-37e1-4af0-9dbb-5909a8ebcb38",
   "metadata": {},
   "outputs": [
    {
     "name": "stderr",
     "output_type": "stream",
     "text": [
      "100%|█████████████████████████████████████████████████████████████████████████████████| 34/34 [00:00<00:00, 116.64it/s]"
     ]
    },
    {
     "name": "stdout",
     "output_type": "stream",
     "text": [
      "val_loss: 0.20010613379655062 acc: 0.9481481481481482\n"
     ]
    },
    {
     "name": "stderr",
     "output_type": "stream",
     "text": [
      "\n"
     ]
    }
   ],
   "source": [
    "test(model, df_test)"
   ]
  },
  {
   "cell_type": "code",
   "execution_count": null,
   "id": "1a35ed8d-aeaa-4574-8af6-1e53701485b0",
   "metadata": {},
   "outputs": [],
   "source": []
  }
 ],
 "metadata": {
  "kernelspec": {
   "display_name": "Python 3 (ipykernel)",
   "language": "python",
   "name": "python3"
  },
  "language_info": {
   "codemirror_mode": {
    "name": "ipython",
    "version": 3
   },
   "file_extension": ".py",
   "mimetype": "text/x-python",
   "name": "python",
   "nbconvert_exporter": "python",
   "pygments_lexer": "ipython3",
   "version": "3.11.4"
  }
 },
 "nbformat": 4,
 "nbformat_minor": 5
}
